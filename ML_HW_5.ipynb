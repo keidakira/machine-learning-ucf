{
  "nbformat": 4,
  "nbformat_minor": 0,
  "metadata": {
    "colab": {
      "name": "ML HW-5.ipynb",
      "provenance": [],
      "collapsed_sections": [],
      "authorship_tag": "ABX9TyPf7bvPUeRbzwP4Gs34Kv0w",
      "include_colab_link": true
    },
    "kernelspec": {
      "name": "python3",
      "display_name": "Python 3"
    },
    "language_info": {
      "name": "python"
    }
  },
  "cells": [
    {
      "cell_type": "markdown",
      "metadata": {
        "id": "view-in-github",
        "colab_type": "text"
      },
      "source": [
        "<a href=\"https://colab.research.google.com/github/keidakira/machine-learning-ucf/blob/main/ML_HW_5.ipynb\" target=\"_parent\"><img src=\"https://colab.research.google.com/assets/colab-badge.svg\" alt=\"Open In Colab\"/></a>"
      ]
    },
    {
      "cell_type": "code",
      "metadata": {
        "colab": {
          "base_uri": "https://localhost:8080/"
        },
        "id": "oofN4uIA7o0o",
        "outputId": "fbede35b-2204-4448-a17c-6779ff3b7aed"
      },
      "source": [
        "!pip install surprise"
      ],
      "execution_count": 1,
      "outputs": [
        {
          "output_type": "stream",
          "text": [
            "Collecting surprise\n",
            "  Downloading https://files.pythonhosted.org/packages/61/de/e5cba8682201fcf9c3719a6fdda95693468ed061945493dea2dd37c5618b/surprise-0.1-py2.py3-none-any.whl\n",
            "Collecting scikit-surprise\n",
            "\u001b[?25l  Downloading https://files.pythonhosted.org/packages/97/37/5d334adaf5ddd65da99fc65f6507e0e4599d092ba048f4302fe8775619e8/scikit-surprise-1.1.1.tar.gz (11.8MB)\n",
            "\u001b[K     |████████████████████████████████| 11.8MB 319kB/s \n",
            "\u001b[?25hRequirement already satisfied: joblib>=0.11 in /usr/local/lib/python3.7/dist-packages (from scikit-surprise->surprise) (1.0.1)\n",
            "Requirement already satisfied: numpy>=1.11.2 in /usr/local/lib/python3.7/dist-packages (from scikit-surprise->surprise) (1.19.5)\n",
            "Requirement already satisfied: scipy>=1.0.0 in /usr/local/lib/python3.7/dist-packages (from scikit-surprise->surprise) (1.4.1)\n",
            "Requirement already satisfied: six>=1.10.0 in /usr/local/lib/python3.7/dist-packages (from scikit-surprise->surprise) (1.15.0)\n",
            "Building wheels for collected packages: scikit-surprise\n",
            "  Building wheel for scikit-surprise (setup.py) ... \u001b[?25l\u001b[?25hdone\n",
            "  Created wheel for scikit-surprise: filename=scikit_surprise-1.1.1-cp37-cp37m-linux_x86_64.whl size=1617553 sha256=1098ac6401f94c5e7b6f63bb99569df87eb2466ef3408e0305e1f1fe978251ca\n",
            "  Stored in directory: /root/.cache/pip/wheels/78/9c/3d/41b419c9d2aff5b6e2b4c0fc8d25c538202834058f9ed110d0\n",
            "Successfully built scikit-surprise\n",
            "Installing collected packages: scikit-surprise, surprise\n",
            "Successfully installed scikit-surprise-1.1.1 surprise-0.1\n"
          ],
          "name": "stdout"
        }
      ]
    },
    {
      "cell_type": "code",
      "metadata": {
        "id": "XGVThP8986R6"
      },
      "source": [
        "import pandas as pd\n",
        "import numpy as np\n",
        "from surprise import KNNBasic,Reader, Dataset, SVD\n",
        "from surprise.model_selection import KFold, cross_validate\n",
        "import matplotlib.pyplot as plt"
      ],
      "execution_count": 66,
      "outputs": []
    },
    {
      "cell_type": "markdown",
      "metadata": {
        "id": "pBfsm7PVFD7l"
      },
      "source": [
        "**3.a Loading the data**"
      ]
    },
    {
      "cell_type": "code",
      "metadata": {
        "id": "KOCDmz60-XL3"
      },
      "source": [
        "reader = Reader(line_format='user item rating timestamp', sep=',', skip_lines = 1)\n",
        "data = Dataset.load_from_file('./ratings_small.csv', reader=reader)"
      ],
      "execution_count": 6,
      "outputs": []
    },
    {
      "cell_type": "markdown",
      "metadata": {
        "id": "lWAleS6EIRQO"
      },
      "source": [
        "**3.c Probabilistic Matrix Factorization (PMF)**"
      ]
    },
    {
      "cell_type": "code",
      "metadata": {
        "colab": {
          "base_uri": "https://localhost:8080/"
        },
        "id": "dBVUd_GqG6t8",
        "outputId": "27109379-34b7-4ae0-d054-ec83da0c728a"
      },
      "source": [
        "pmf_svd = SVD()\n",
        "cv_pmf = cross_validate(pmf_svd, data, measures=['RMSE', 'MAE'], cv=5, verbose=True);"
      ],
      "execution_count": 93,
      "outputs": [
        {
          "output_type": "stream",
          "text": [
            "Evaluating RMSE, MAE of algorithm SVD on 5 split(s).\n",
            "\n",
            "                  Fold 1  Fold 2  Fold 3  Fold 4  Fold 5  Mean    Std     \n",
            "RMSE (testset)    0.8988  0.8887  0.8976  0.9001  0.8972  0.8965  0.0040  \n",
            "MAE (testset)     0.6901  0.6867  0.6923  0.6907  0.6886  0.6897  0.0019  \n",
            "Fit time          4.77    4.64    4.56    4.54    4.65    4.63    0.08    \n",
            "Test time         0.16    0.17    0.30    0.15    0.32    0.22    0.08    \n"
          ],
          "name": "stdout"
        }
      ]
    },
    {
      "cell_type": "markdown",
      "metadata": {
        "id": "-sCfw-wSP7kI"
      },
      "source": [
        "**3.c User based CF**"
      ]
    },
    {
      "cell_type": "code",
      "metadata": {
        "colab": {
          "base_uri": "https://localhost:8080/"
        },
        "id": "IKLKWvn6PI9B",
        "outputId": "f1a07459-c37e-4bcb-d18b-34d640f87ebc"
      },
      "source": [
        "sim_options = {'user_based': True}\n",
        "user_based_cf = KNNBasic(sim_options=sim_options)\n",
        "cv_ub = cross_validate(user_based_cf, data, measures=['RMSE', 'MAE'], cv=5, verbose=True);"
      ],
      "execution_count": 15,
      "outputs": [
        {
          "output_type": "stream",
          "text": [
            "Computing the msd similarity matrix...\n",
            "Done computing similarity matrix.\n",
            "Computing the msd similarity matrix...\n",
            "Done computing similarity matrix.\n",
            "Computing the msd similarity matrix...\n",
            "Done computing similarity matrix.\n",
            "Computing the msd similarity matrix...\n",
            "Done computing similarity matrix.\n",
            "Computing the msd similarity matrix...\n",
            "Done computing similarity matrix.\n",
            "Evaluating RMSE, MAE of algorithm KNNBasic on 5 split(s).\n",
            "\n",
            "                  Fold 1  Fold 2  Fold 3  Fold 4  Fold 5  Mean    Std     \n",
            "RMSE (testset)    0.9650  0.9703  0.9597  0.9697  0.9711  0.9671  0.0043  \n",
            "MAE (testset)     0.7401  0.7455  0.7394  0.7456  0.7478  0.7437  0.0033  \n",
            "Fit time          0.11    0.15    0.15    0.16    0.15    0.14    0.02    \n",
            "Test time         1.72    1.67    1.78    1.75    1.70    1.73    0.04    \n"
          ],
          "name": "stdout"
        }
      ]
    },
    {
      "cell_type": "markdown",
      "metadata": {
        "id": "2WttQVWUQMdi"
      },
      "source": [
        "**3.c Item based CF**"
      ]
    },
    {
      "cell_type": "code",
      "metadata": {
        "colab": {
          "base_uri": "https://localhost:8080/"
        },
        "id": "kst2HdGgP9vJ",
        "outputId": "d6f394a6-8efc-413c-9420-c4298e389143"
      },
      "source": [
        "sim_options = {'user_based': False}\n",
        "item_based_cf = KNNBasic(sim_options=sim_options)\n",
        "cv_ib = cross_validate(item_based_cf, data, measures=['RMSE', 'MAE'], cv=5, verbose=True);"
      ],
      "execution_count": 16,
      "outputs": [
        {
          "output_type": "stream",
          "text": [
            "Computing the msd similarity matrix...\n",
            "Done computing similarity matrix.\n",
            "Computing the msd similarity matrix...\n",
            "Done computing similarity matrix.\n",
            "Computing the msd similarity matrix...\n",
            "Done computing similarity matrix.\n",
            "Computing the msd similarity matrix...\n",
            "Done computing similarity matrix.\n",
            "Computing the msd similarity matrix...\n",
            "Done computing similarity matrix.\n",
            "Evaluating RMSE, MAE of algorithm KNNBasic on 5 split(s).\n",
            "\n",
            "                  Fold 1  Fold 2  Fold 3  Fold 4  Fold 5  Mean    Std     \n",
            "RMSE (testset)    0.9352  0.9288  0.9386  0.9353  0.9381  0.9352  0.0035  \n",
            "MAE (testset)     0.7207  0.7157  0.7233  0.7233  0.7221  0.7210  0.0028  \n",
            "Fit time          4.32    4.34    3.74    3.85    3.77    4.00    0.27    \n",
            "Test time         7.12    7.17    7.45    7.14    7.09    7.19    0.13    \n"
          ],
          "name": "stdout"
        }
      ]
    },
    {
      "cell_type": "markdown",
      "metadata": {
        "id": "378VXVN_QfLU"
      },
      "source": [
        "**3.d Mean of PMF, User based CF, Item based CF with respect to MAE, RMSE**"
      ]
    },
    {
      "cell_type": "code",
      "metadata": {
        "colab": {
          "base_uri": "https://localhost:8080/"
        },
        "id": "5eqAwczrQN7H",
        "outputId": "424b32aa-0f54-4bd1-cbeb-5e42a516fa6b"
      },
      "source": [
        "pmf = ('PMF', cv_pmf['test_mae'].mean(), cv_pmf['test_rmse'].mean())\n",
        "user_cf = ('User based CF', cv_ub['test_mae'].mean(), cv_ub['test_rmse'].mean())\n",
        "item_cf = ('Item based CF', cv_ib['test_mae'].mean(), cv_ib['test_rmse'].mean())\n",
        "\n",
        "results = [pmf, user_cf, item_cf]\n",
        "\n",
        "print(\"%-12s %12s %12s\" % ('Algorithm', 'MAE Mean', 'RMSE Mean'))\n",
        "\n",
        "for res in results:\n",
        "  if res[0] == 'PMF':\n",
        "    print(\"%-8s %14.3f %12.3f\" % (res[0], res[1], res[2]))\n",
        "  else:\n",
        "    print(\"%-8s %9.3f %12.3f\" % (res[0], res[1], res[2]))"
      ],
      "execution_count": 38,
      "outputs": [
        {
          "output_type": "stream",
          "text": [
            "Algorithm        MAE Mean    RMSE Mean\n",
            "PMF               0.778        1.007\n",
            "User based CF     0.744        0.967\n",
            "Item based CF     0.721        0.935\n"
          ],
          "name": "stdout"
        }
      ]
    },
    {
      "cell_type": "markdown",
      "metadata": {
        "id": "uOgPzxETh4Og"
      },
      "source": [
        "**3.e Similarities Comparision**"
      ]
    },
    {
      "cell_type": "code",
      "metadata": {
        "colab": {
          "base_uri": "https://localhost:8080/"
        },
        "id": "YoDAa9Fth-4i",
        "outputId": "37e3fca2-afec-41f2-c655-058e61137343"
      },
      "source": [
        "similarities = ['cosine', 'msd', 'pearson']\n",
        "measures = ['RMSE', 'MAE']\n",
        "run_results = {\n",
        "    'ucf': dict(),\n",
        "    'icf': dict()\n",
        "}\n",
        "\n",
        "for similarity in similarities:\n",
        "  user_based_cf = KNNBasic(sim_options={'name': similarity, 'user_based': True})\n",
        "  item_based_cf = KNNBasic(sim_options={'name': similarity, 'user_based': False})\n",
        "\n",
        "  print(f\"Calculating {similarity} for User Based CF\")\n",
        "  cross_validate_user_based_cf = cross_validate(user_based_cf, data, measures, verbose=True, cv=5)\n",
        "\n",
        "  print(f\"Calculating {similarity} for Item Based CF\")\n",
        "  cross_validate_item_based_cf = cross_validate(item_based_cf, data, measures, verbose=True, cv=5)\n",
        "\n",
        "  run_results['ucf'][similarity] = cross_validate_user_based_cf\n",
        "  run_results['icf'][similarity] = cross_validate_item_based_cf"
      ],
      "execution_count": 45,
      "outputs": [
        {
          "output_type": "stream",
          "text": [
            "Calculating cosine for User Based CF\n",
            "Computing the cosine similarity matrix...\n",
            "Done computing similarity matrix.\n",
            "Computing the cosine similarity matrix...\n",
            "Done computing similarity matrix.\n",
            "Computing the cosine similarity matrix...\n",
            "Done computing similarity matrix.\n",
            "Computing the cosine similarity matrix...\n",
            "Done computing similarity matrix.\n",
            "Computing the cosine similarity matrix...\n",
            "Done computing similarity matrix.\n",
            "Evaluating RMSE, MAE of algorithm KNNBasic on 5 split(s).\n",
            "\n",
            "                  Fold 1  Fold 2  Fold 3  Fold 4  Fold 5  Mean    Std     \n",
            "RMSE (testset)    0.9932  0.9944  0.9993  0.9878  0.9918  0.9933  0.0038  \n",
            "MAE (testset)     0.7667  0.7674  0.7720  0.7645  0.7676  0.7677  0.0024  \n",
            "Fit time          0.38    0.39    0.39    0.40    0.38    0.39    0.01    \n",
            "Test time         1.88    1.71    1.83    1.73    1.79    1.79    0.06    \n",
            "Calculating cosine for Item Based CF\n",
            "Computing the cosine similarity matrix...\n",
            "Done computing similarity matrix.\n",
            "Computing the cosine similarity matrix...\n",
            "Done computing similarity matrix.\n",
            "Computing the cosine similarity matrix...\n",
            "Done computing similarity matrix.\n",
            "Computing the cosine similarity matrix...\n",
            "Done computing similarity matrix.\n",
            "Computing the cosine similarity matrix...\n",
            "Done computing similarity matrix.\n",
            "Evaluating RMSE, MAE of algorithm KNNBasic on 5 split(s).\n",
            "\n",
            "                  Fold 1  Fold 2  Fold 3  Fold 4  Fold 5  Mean    Std     \n",
            "RMSE (testset)    0.9936  0.9982  0.9947  0.9997  0.9894  0.9951  0.0036  \n",
            "MAE (testset)     0.7715  0.7782  0.7741  0.7792  0.7695  0.7745  0.0037  \n",
            "Fit time          13.64   13.21   13.49   13.57   13.70   13.52   0.17    \n",
            "Test time         6.74    7.21    7.04    7.26    7.04    7.06    0.18    \n",
            "Calculating msd for User Based CF\n",
            "Computing the msd similarity matrix...\n",
            "Done computing similarity matrix.\n",
            "Computing the msd similarity matrix...\n",
            "Done computing similarity matrix.\n",
            "Computing the msd similarity matrix...\n",
            "Done computing similarity matrix.\n",
            "Computing the msd similarity matrix...\n",
            "Done computing similarity matrix.\n",
            "Computing the msd similarity matrix...\n",
            "Done computing similarity matrix.\n",
            "Evaluating RMSE, MAE of algorithm KNNBasic on 5 split(s).\n",
            "\n",
            "                  Fold 1  Fold 2  Fold 3  Fold 4  Fold 5  Mean    Std     \n",
            "RMSE (testset)    0.9648  0.9775  0.9644  0.9670  0.9675  0.9682  0.0048  \n",
            "MAE (testset)     0.7413  0.7513  0.7419  0.7429  0.7435  0.7442  0.0036  \n",
            "Fit time          0.11    0.16    0.16    0.15    0.16    0.15    0.02    \n",
            "Test time         1.79    1.66    1.79    1.67    1.69    1.72    0.06    \n",
            "Calculating msd for Item Based CF\n",
            "Computing the msd similarity matrix...\n",
            "Done computing similarity matrix.\n",
            "Computing the msd similarity matrix...\n",
            "Done computing similarity matrix.\n",
            "Computing the msd similarity matrix...\n",
            "Done computing similarity matrix.\n",
            "Computing the msd similarity matrix...\n",
            "Done computing similarity matrix.\n",
            "Computing the msd similarity matrix...\n",
            "Done computing similarity matrix.\n",
            "Evaluating RMSE, MAE of algorithm KNNBasic on 5 split(s).\n",
            "\n",
            "                  Fold 1  Fold 2  Fold 3  Fold 4  Fold 5  Mean    Std     \n",
            "RMSE (testset)    0.9362  0.9396  0.9332  0.9299  0.9337  0.9345  0.0032  \n",
            "MAE (testset)     0.7202  0.7236  0.7221  0.7177  0.7213  0.7210  0.0020  \n",
            "Fit time          4.19    3.99    3.93    3.86    3.97    3.99    0.11    \n",
            "Test time         7.00    7.25    7.50    7.46    7.46    7.34    0.19    \n",
            "Calculating pearson for User Based CF\n",
            "Computing the pearson similarity matrix...\n",
            "Done computing similarity matrix.\n",
            "Computing the pearson similarity matrix...\n",
            "Done computing similarity matrix.\n",
            "Computing the pearson similarity matrix...\n",
            "Done computing similarity matrix.\n",
            "Computing the pearson similarity matrix...\n",
            "Done computing similarity matrix.\n",
            "Computing the pearson similarity matrix...\n",
            "Done computing similarity matrix.\n",
            "Evaluating RMSE, MAE of algorithm KNNBasic on 5 split(s).\n",
            "\n",
            "                  Fold 1  Fold 2  Fold 3  Fold 4  Fold 5  Mean    Std     \n",
            "RMSE (testset)    0.9911  0.9932  1.0069  1.0034  0.9997  0.9989  0.0060  \n",
            "MAE (testset)     0.7634  0.7675  0.7795  0.7764  0.7759  0.7725  0.0061  \n",
            "Fit time          0.49    0.53    0.55    0.51    0.55    0.53    0.02    \n",
            "Test time         1.70    1.86    1.75    1.70    1.72    1.74    0.06    \n",
            "Calculating pearson for Item Based CF\n",
            "Computing the pearson similarity matrix...\n",
            "Done computing similarity matrix.\n",
            "Computing the pearson similarity matrix...\n",
            "Done computing similarity matrix.\n",
            "Computing the pearson similarity matrix...\n",
            "Done computing similarity matrix.\n",
            "Computing the pearson similarity matrix...\n",
            "Done computing similarity matrix.\n",
            "Computing the pearson similarity matrix...\n",
            "Done computing similarity matrix.\n",
            "Evaluating RMSE, MAE of algorithm KNNBasic on 5 split(s).\n",
            "\n",
            "                  Fold 1  Fold 2  Fold 3  Fold 4  Fold 5  Mean    Std     \n",
            "RMSE (testset)    0.9923  0.9888  0.9906  0.9905  0.9870  0.9899  0.0018  \n",
            "MAE (testset)     0.7720  0.7651  0.7705  0.7684  0.7664  0.7685  0.0025  \n",
            "Fit time          18.98   18.72   18.38   18.27   18.95   18.66   0.29    \n",
            "Test time         7.30    7.31    7.19    6.96    7.19    7.19    0.13    \n"
          ],
          "name": "stdout"
        }
      ]
    },
    {
      "cell_type": "code",
      "metadata": {
        "id": "ejTLsQTajR9x"
      },
      "source": [
        "plot_data = {\n",
        "    'mae': {\n",
        "      'cosine': [],\n",
        "      'msd': [],\n",
        "      'pearson': []\n",
        "    },\n",
        "    'rmse': {\n",
        "      'cosine': [],\n",
        "      'msd': [],\n",
        "      'pearson': []\n",
        "    }\n",
        "}\n",
        "\n",
        "for k, v in run_results.items():\n",
        "  for key, result in run_results[k].items():\n",
        "    plot_data['mae'][key].append(result['test_mae'].mean())\n",
        "    plot_data['rmse'][key].append(result['test_rmse'].mean())"
      ],
      "execution_count": 71,
      "outputs": []
    },
    {
      "cell_type": "code",
      "metadata": {
        "colab": {
          "base_uri": "https://localhost:8080/"
        },
        "id": "wY7qDpwfsAi0",
        "outputId": "2a91a662-779f-4477-a2fd-b5fb7e4dd604"
      },
      "source": [
        "plot_data"
      ],
      "execution_count": 72,
      "outputs": [
        {
          "output_type": "execute_result",
          "data": {
            "text/plain": [
              "{'mae': {'cosine': [0.7676587629870264, 0.7745025746926022],\n",
              "  'msd': [0.7441687361188356, 0.7209702950256605],\n",
              "  'pearson': [0.7725258101616669, 0.7684868602487277]},\n",
              " 'rmse': {'cosine': [0.9932900883240734, 0.9951171397547679],\n",
              "  'msd': [0.9682372978723197, 0.9345415229074423],\n",
              "  'pearson': [0.998863116051106, 0.9898522272861013]}}"
            ]
          },
          "metadata": {
            "tags": []
          },
          "execution_count": 72
        }
      ]
    },
    {
      "cell_type": "code",
      "metadata": {
        "colab": {
          "base_uri": "https://localhost:8080/",
          "height": 297
        },
        "id": "6dlz-OuEnlAp",
        "outputId": "55dc317d-9c3e-4b0c-88d7-138c6fa71cfb"
      },
      "source": [
        "labels = ['User based CF', 'Item based CF']\n",
        "\n",
        "x = np.arange(len(labels))  # the label locations\n",
        "width = 0.2\n",
        "\n",
        "# plot data in grouped manner of bar type\n",
        "plt.bar(x-0.2, plot_data['mae']['cosine'], width, color='cyan')\n",
        "plt.bar(x, plot_data['mae']['msd'], width, color='orange')\n",
        "plt.bar(x+0.2, plot_data['mae']['pearson'], width, color='green')\n",
        "\n",
        "plt.xticks(x, labels)\n",
        "plt.ylabel(\"MAE\")\n",
        "plt.yticks()\n",
        "plt.legend([\"Cosine\", \"MSD\", \"Pearson\"])\n",
        "plt.tight_layout()\n",
        "\n",
        "plt.show()"
      ],
      "execution_count": 91,
      "outputs": [
        {
          "output_type": "display_data",
          "data": {
            "image/png": "[encoded data removed]",
            "text/plain": [
              "<Figure size 432x288 with 1 Axes>"
            ]
          },
          "metadata": {
            "tags": [],
            "needs_background": "light"
          }
        }
      ]
    },
    {
      "cell_type": "code",
      "metadata": {
        "colab": {
          "base_uri": "https://localhost:8080/",
          "height": 297
        },
        "id": "kAd-hzrlsrUL",
        "outputId": "8e0b01ba-6a08-40fe-9d88-e5ea062d1530"
      },
      "source": [
        "labels = ['User based CF', 'Item based CF']\n",
        "\n",
        "x = np.arange(len(labels))  # the label locations\n",
        "width = 0.2\n",
        "\n",
        "# plot data in grouped manner of bar type\n",
        "plt.bar(x-0.2, plot_data['rmse']['cosine'], width, color='cyan')\n",
        "plt.bar(x, plot_data['rmse']['msd'], width, color='orange')\n",
        "plt.bar(x+0.2, plot_data['rmse']['pearson'], width, color='green')\n",
        "\n",
        "plt.xticks(x, labels)\n",
        "plt.ylabel(\"RMSE\")\n",
        "plt.yticks()\n",
        "plt.legend([\"Cosine\", \"MSD\", \"Pearson\"])\n",
        "plt.tight_layout()\n",
        "\n",
        "plt.show()"
      ],
      "execution_count": 92,
      "outputs": [
        {
          "output_type": "display_data",
          "data": {
            "image/png": "[encoded data removed]",
            "text/plain": [
              "<Figure size 432x288 with 1 Axes>"
            ]
          },
          "metadata": {
            "tags": [],
            "needs_background": "light"
          }
        }
      ]
    },
    {
      "cell_type": "code",
      "metadata": {
        "colab": {
          "base_uri": "https://localhost:8080/"
        },
        "id": "Jtrm3ZISv1iK",
        "outputId": "223605b3-e68c-42b4-d6ed-d2e9cdcdecdb"
      },
      "source": [
        "min_k_value = 1\n",
        "mean = 99999\n",
        "ucf_k_results = []\n",
        "\n",
        "for i in range(20):\n",
        "  knn_ucf = KNNBasic(sim_options={'user_based': True}, k=i)\n",
        "  cv_knn_ucf = cross_validate(knn_ucf, data, measures, verbose=True, cv=5)\n",
        "\n",
        "  curr_mean = cv_knn_ucf['test_rmse'].mean()\n",
        "  if curr_mean < mean:\n",
        "    mean = curr_mean\n",
        "    min_k_value = i\n",
        "  ucf_k_results.append(curr_mean)\n",
        "  print(i)\n",
        "\n",
        "print(min_k_value, mean)"
      ],
      "execution_count": 103,
      "outputs": [
        {
          "output_type": "stream",
          "text": [
            "Computing the msd similarity matrix...\n",
            "Done computing similarity matrix.\n",
            "Computing the msd similarity matrix...\n",
            "Done computing similarity matrix.\n",
            "Computing the msd similarity matrix...\n",
            "Done computing similarity matrix.\n",
            "Computing the msd similarity matrix...\n",
            "Done computing similarity matrix.\n",
            "Computing the msd similarity matrix...\n",
            "Done computing similarity matrix.\n",
            "Evaluating RMSE, MAE of algorithm KNNBasic on 5 split(s).\n",
            "\n",
            "                  Fold 1  Fold 2  Fold 3  Fold 4  Fold 5  Mean    Std     \n",
            "RMSE (testset)    1.0549  1.0657  1.0558  1.0493  1.0646  1.0581  0.0062  \n",
            "MAE (testset)     0.8465  0.8558  0.8482  0.8446  0.8540  0.8498  0.0043  \n",
            "Fit time          0.13    0.16    0.16    0.15    0.16    0.15    0.01    \n",
            "Test time         0.77    0.96    0.77    0.92    0.79    0.84    0.08    \n",
            "0\n",
            "Computing the msd similarity matrix...\n",
            "Done computing similarity matrix.\n",
            "Computing the msd similarity matrix...\n",
            "Done computing similarity matrix.\n",
            "Computing the msd similarity matrix...\n",
            "Done computing similarity matrix.\n",
            "Computing the msd similarity matrix...\n",
            "Done computing similarity matrix.\n",
            "Computing the msd similarity matrix...\n",
            "Done computing similarity matrix.\n",
            "Evaluating RMSE, MAE of algorithm KNNBasic on 5 split(s).\n",
            "\n",
            "                  Fold 1  Fold 2  Fold 3  Fold 4  Fold 5  Mean    Std     \n",
            "RMSE (testset)    1.2115  1.2081  1.2222  1.2047  1.2082  1.2109  0.0060  \n",
            "MAE (testset)     0.9022  0.9051  0.9127  0.8986  0.9006  0.9038  0.0049  \n",
            "Fit time          0.13    0.16    0.17    0.16    0.16    0.16    0.01    \n",
            "Test time         1.04    0.93    1.05    0.91    1.04    0.99    0.06    \n",
            "1\n",
            "Computing the msd similarity matrix...\n",
            "Done computing similarity matrix.\n",
            "Computing the msd similarity matrix...\n",
            "Done computing similarity matrix.\n",
            "Computing the msd similarity matrix...\n",
            "Done computing similarity matrix.\n",
            "Computing the msd similarity matrix...\n",
            "Done computing similarity matrix.\n",
            "Computing the msd similarity matrix...\n",
            "Done computing similarity matrix.\n",
            "Evaluating RMSE, MAE of algorithm KNNBasic on 5 split(s).\n",
            "\n",
            "                  Fold 1  Fold 2  Fold 3  Fold 4  Fold 5  Mean    Std     \n",
            "RMSE (testset)    1.0769  1.0632  1.0759  1.0657  1.0680  1.0699  0.0055  \n",
            "MAE (testset)     0.8190  0.8091  0.8151  0.8152  0.8142  0.8145  0.0032  \n",
            "Fit time          0.12    0.16    0.17    0.16    0.16    0.15    0.01    \n",
            "Test time         1.03    1.15    1.05    1.19    1.03    1.09    0.07    \n",
            "2\n",
            "Computing the msd similarity matrix...\n",
            "Done computing similarity matrix.\n",
            "Computing the msd similarity matrix...\n",
            "Done computing similarity matrix.\n",
            "Computing the msd similarity matrix...\n",
            "Done computing similarity matrix.\n",
            "Computing the msd similarity matrix...\n",
            "Done computing similarity matrix.\n",
            "Computing the msd similarity matrix...\n",
            "Done computing similarity matrix.\n",
            "Evaluating RMSE, MAE of algorithm KNNBasic on 5 split(s).\n",
            "\n",
            "                  Fold 1  Fold 2  Fold 3  Fold 4  Fold 5  Mean    Std     \n",
            "RMSE (testset)    1.0270  1.0250  1.0125  1.0235  1.0208  1.0217  0.0051  \n",
            "MAE (testset)     0.7850  0.7835  0.7750  0.7823  0.7835  0.7819  0.0035  \n",
            "Fit time          0.13    0.16    0.16    0.16    0.16    0.15    0.01    \n",
            "Test time         1.23    1.10    1.22    1.10    1.08    1.15    0.07    \n",
            "3\n",
            "Computing the msd similarity matrix...\n",
            "Done computing similarity matrix.\n",
            "Computing the msd similarity matrix...\n",
            "Done computing similarity matrix.\n",
            "Computing the msd similarity matrix...\n",
            "Done computing similarity matrix.\n",
            "Computing the msd similarity matrix...\n",
            "Done computing similarity matrix.\n",
            "Computing the msd similarity matrix...\n",
            "Done computing similarity matrix.\n",
            "Evaluating RMSE, MAE of algorithm KNNBasic on 5 split(s).\n",
            "\n",
            "                  Fold 1  Fold 2  Fold 3  Fold 4  Fold 5  Mean    Std     \n",
            "RMSE (testset)    0.9901  1.0034  1.0043  1.0010  1.0042  1.0006  0.0054  \n",
            "MAE (testset)     0.7599  0.7682  0.7683  0.7674  0.7656  0.7659  0.0031  \n",
            "Fit time          0.13    0.16    0.17    0.16    0.17    0.16    0.02    \n",
            "Test time         1.30    1.14    1.27    1.13    1.29    1.23    0.07    \n",
            "4\n",
            "Computing the msd similarity matrix...\n",
            "Done computing similarity matrix.\n",
            "Computing the msd similarity matrix...\n",
            "Done computing similarity matrix.\n",
            "Computing the msd similarity matrix...\n",
            "Done computing similarity matrix.\n",
            "Computing the msd similarity matrix...\n",
            "Done computing similarity matrix.\n",
            "Computing the msd similarity matrix...\n",
            "Done computing similarity matrix.\n",
            "Evaluating RMSE, MAE of algorithm KNNBasic on 5 split(s).\n",
            "\n",
            "                  Fold 1  Fold 2  Fold 3  Fold 4  Fold 5  Mean    Std     \n",
            "RMSE (testset)    0.9949  0.9860  0.9821  0.9875  0.9802  0.9861  0.0051  \n",
            "MAE (testset)     0.7629  0.7522  0.7524  0.7564  0.7534  0.7554  0.0040  \n",
            "Fit time          0.12    0.17    0.16    0.16    0.18    0.16    0.02    \n",
            "Test time         1.18    1.33    1.18    1.44    1.38    1.30    0.11    \n",
            "5\n",
            "Computing the msd similarity matrix...\n",
            "Done computing similarity matrix.\n",
            "Computing the msd similarity matrix...\n",
            "Done computing similarity matrix.\n",
            "Computing the msd similarity matrix...\n",
            "Done computing similarity matrix.\n",
            "Computing the msd similarity matrix...\n",
            "Done computing similarity matrix.\n",
            "Computing the msd similarity matrix...\n",
            "Done computing similarity matrix.\n",
            "Evaluating RMSE, MAE of algorithm KNNBasic on 5 split(s).\n",
            "\n",
            "                  Fold 1  Fold 2  Fold 3  Fold 4  Fold 5  Mean    Std     \n",
            "RMSE (testset)    0.9811  0.9828  0.9775  0.9643  0.9833  0.9778  0.0070  \n",
            "MAE (testset)     0.7510  0.7497  0.7459  0.7435  0.7543  0.7489  0.0038  \n",
            "Fit time          0.14    0.18    0.20    0.20    0.26    0.20    0.04    \n",
            "Test time         1.53    1.57    1.67    1.89    1.96    1.72    0.17    \n",
            "6\n",
            "Computing the msd similarity matrix...\n",
            "Done computing similarity matrix.\n",
            "Computing the msd similarity matrix...\n",
            "Done computing similarity matrix.\n",
            "Computing the msd similarity matrix...\n",
            "Done computing similarity matrix.\n",
            "Computing the msd similarity matrix...\n",
            "Done computing similarity matrix.\n",
            "Computing the msd similarity matrix...\n",
            "Done computing similarity matrix.\n",
            "Evaluating RMSE, MAE of algorithm KNNBasic on 5 split(s).\n",
            "\n",
            "                  Fold 1  Fold 2  Fold 3  Fold 4  Fold 5  Mean    Std     \n",
            "RMSE (testset)    0.9794  0.9745  0.9706  0.9650  0.9647  0.9708  0.0056  \n",
            "MAE (testset)     0.7493  0.7468  0.7407  0.7374  0.7382  0.7425  0.0047  \n",
            "Fit time          0.12    0.16    0.17    0.16    0.17    0.16    0.02    \n",
            "Test time         1.21    1.39    1.24    1.38    1.23    1.29    0.08    \n",
            "7\n",
            "Computing the msd similarity matrix...\n",
            "Done computing similarity matrix.\n",
            "Computing the msd similarity matrix...\n",
            "Done computing similarity matrix.\n",
            "Computing the msd similarity matrix...\n",
            "Done computing similarity matrix.\n",
            "Computing the msd similarity matrix...\n",
            "Done computing similarity matrix.\n",
            "Computing the msd similarity matrix...\n",
            "Done computing similarity matrix.\n",
            "Evaluating RMSE, MAE of algorithm KNNBasic on 5 split(s).\n",
            "\n",
            "                  Fold 1  Fold 2  Fold 3  Fold 4  Fold 5  Mean    Std     \n",
            "RMSE (testset)    0.9663  0.9670  0.9718  0.9711  0.9682  0.9689  0.0022  \n",
            "MAE (testset)     0.7416  0.7387  0.7449  0.7420  0.7409  0.7416  0.0020  \n",
            "Fit time          0.15    0.16    0.17    0.17    0.16    0.16    0.01    \n",
            "Test time         1.39    1.29    1.42    1.25    1.41    1.35    0.07    \n",
            "8\n",
            "Computing the msd similarity matrix...\n",
            "Done computing similarity matrix.\n",
            "Computing the msd similarity matrix...\n",
            "Done computing similarity matrix.\n",
            "Computing the msd similarity matrix...\n",
            "Done computing similarity matrix.\n",
            "Computing the msd similarity matrix...\n",
            "Done computing similarity matrix.\n",
            "Computing the msd similarity matrix...\n",
            "Done computing similarity matrix.\n",
            "Evaluating RMSE, MAE of algorithm KNNBasic on 5 split(s).\n",
            "\n",
            "                  Fold 1  Fold 2  Fold 3  Fold 4  Fold 5  Mean    Std     \n",
            "RMSE (testset)    0.9776  0.9657  0.9760  0.9656  0.9609  0.9691  0.0065  \n",
            "MAE (testset)     0.7484  0.7372  0.7459  0.7401  0.7351  0.7413  0.0051  \n",
            "Fit time          0.13    0.16    0.17    0.17    0.16    0.16    0.01    \n",
            "Test time         1.31    1.41    1.30    1.48    1.29    1.36    0.07    \n",
            "9\n",
            "Computing the msd similarity matrix...\n",
            "Done computing similarity matrix.\n",
            "Computing the msd similarity matrix...\n",
            "Done computing similarity matrix.\n",
            "Computing the msd similarity matrix...\n",
            "Done computing similarity matrix.\n",
            "Computing the msd similarity matrix...\n",
            "Done computing similarity matrix.\n",
            "Computing the msd similarity matrix...\n",
            "Done computing similarity matrix.\n",
            "Evaluating RMSE, MAE of algorithm KNNBasic on 5 split(s).\n",
            "\n",
            "                  Fold 1  Fold 2  Fold 3  Fold 4  Fold 5  Mean    Std     \n",
            "RMSE (testset)    0.9612  0.9724  0.9599  0.9657  0.9718  0.9662  0.0052  \n",
            "MAE (testset)     0.7366  0.7406  0.7338  0.7368  0.7449  0.7385  0.0039  \n",
            "Fit time          0.12    0.15    0.16    0.15    0.16    0.15    0.01    \n",
            "Test time         1.44    1.31    1.46    1.32    1.46    1.40    0.07    \n",
            "10\n",
            "Computing the msd similarity matrix...\n",
            "Done computing similarity matrix.\n",
            "Computing the msd similarity matrix...\n",
            "Done computing similarity matrix.\n",
            "Computing the msd similarity matrix...\n",
            "Done computing similarity matrix.\n",
            "Computing the msd similarity matrix...\n",
            "Done computing similarity matrix.\n",
            "Computing the msd similarity matrix...\n",
            "Done computing similarity matrix.\n",
            "Evaluating RMSE, MAE of algorithm KNNBasic on 5 split(s).\n",
            "\n",
            "                  Fold 1  Fold 2  Fold 3  Fold 4  Fold 5  Mean    Std     \n",
            "RMSE (testset)    0.9652  0.9694  0.9644  0.9676  0.9564  0.9646  0.0045  \n",
            "MAE (testset)     0.7377  0.7419  0.7366  0.7422  0.7311  0.7379  0.0041  \n",
            "Fit time          0.12    0.15    0.16    0.16    0.17    0.15    0.02    \n",
            "Test time         1.42    1.34    1.38    1.32    1.47    1.39    0.05    \n",
            "11\n",
            "Computing the msd similarity matrix...\n",
            "Done computing similarity matrix.\n",
            "Computing the msd similarity matrix...\n",
            "Done computing similarity matrix.\n",
            "Computing the msd similarity matrix...\n",
            "Done computing similarity matrix.\n",
            "Computing the msd similarity matrix...\n",
            "Done computing similarity matrix.\n",
            "Computing the msd similarity matrix...\n",
            "Done computing similarity matrix.\n",
            "Evaluating RMSE, MAE of algorithm KNNBasic on 5 split(s).\n",
            "\n",
            "                  Fold 1  Fold 2  Fold 3  Fold 4  Fold 5  Mean    Std     \n",
            "RMSE (testset)    0.9758  0.9604  0.9542  0.9664  0.9532  0.9620  0.0084  \n",
            "MAE (testset)     0.7444  0.7333  0.7325  0.7371  0.7319  0.7358  0.0046  \n",
            "Fit time          0.13    0.16    0.16    0.17    0.16    0.16    0.01    \n",
            "Test time         1.35    1.54    1.54    1.48    1.38    1.46    0.08    \n",
            "12\n",
            "Computing the msd similarity matrix...\n",
            "Done computing similarity matrix.\n",
            "Computing the msd similarity matrix...\n",
            "Done computing similarity matrix.\n",
            "Computing the msd similarity matrix...\n",
            "Done computing similarity matrix.\n",
            "Computing the msd similarity matrix...\n",
            "Done computing similarity matrix.\n",
            "Computing the msd similarity matrix...\n",
            "Done computing similarity matrix.\n",
            "Evaluating RMSE, MAE of algorithm KNNBasic on 5 split(s).\n",
            "\n",
            "                  Fold 1  Fold 2  Fold 3  Fold 4  Fold 5  Mean    Std     \n",
            "RMSE (testset)    0.9771  0.9550  0.9672  0.9610  0.9564  0.9633  0.0081  \n",
            "MAE (testset)     0.7470  0.7319  0.7403  0.7366  0.7318  0.7375  0.0057  \n",
            "Fit time          0.13    0.16    0.16    0.15    0.16    0.15    0.01    \n",
            "Test time         1.52    1.39    1.52    1.41    1.53    1.47    0.06    \n",
            "13\n",
            "Computing the msd similarity matrix...\n",
            "Done computing similarity matrix.\n",
            "Computing the msd similarity matrix...\n",
            "Done computing similarity matrix.\n",
            "Computing the msd similarity matrix...\n",
            "Done computing similarity matrix.\n",
            "Computing the msd similarity matrix...\n",
            "Done computing similarity matrix.\n",
            "Computing the msd similarity matrix...\n",
            "Done computing similarity matrix.\n",
            "Evaluating RMSE, MAE of algorithm KNNBasic on 5 split(s).\n",
            "\n",
            "                  Fold 1  Fold 2  Fold 3  Fold 4  Fold 5  Mean    Std     \n",
            "RMSE (testset)    0.9536  0.9604  0.9686  0.9690  0.9527  0.9609  0.0070  \n",
            "MAE (testset)     0.7305  0.7365  0.7411  0.7406  0.7303  0.7358  0.0047  \n",
            "Fit time          0.13    0.16    0.16    0.16    0.16    0.15    0.01    \n",
            "Test time         1.38    1.39    1.41    1.59    1.37    1.43    0.08    \n",
            "14\n",
            "Computing the msd similarity matrix...\n",
            "Done computing similarity matrix.\n",
            "Computing the msd similarity matrix...\n",
            "Done computing similarity matrix.\n",
            "Computing the msd similarity matrix...\n",
            "Done computing similarity matrix.\n",
            "Computing the msd similarity matrix...\n",
            "Done computing similarity matrix.\n",
            "Computing the msd similarity matrix...\n",
            "Done computing similarity matrix.\n",
            "Evaluating RMSE, MAE of algorithm KNNBasic on 5 split(s).\n",
            "\n",
            "                  Fold 1  Fold 2  Fold 3  Fold 4  Fold 5  Mean    Std     \n",
            "RMSE (testset)    0.9624  0.9520  0.9663  0.9655  0.9630  0.9618  0.0051  \n",
            "MAE (testset)     0.7352  0.7302  0.7416  0.7362  0.7403  0.7367  0.0041  \n",
            "Fit time          0.13    0.17    0.16    0.16    0.16    0.15    0.01    \n",
            "Test time         1.54    1.42    1.59    1.42    1.57    1.50    0.07    \n",
            "15\n",
            "Computing the msd similarity matrix...\n",
            "Done computing similarity matrix.\n",
            "Computing the msd similarity matrix...\n",
            "Done computing similarity matrix.\n",
            "Computing the msd similarity matrix...\n",
            "Done computing similarity matrix.\n",
            "Computing the msd similarity matrix...\n",
            "Done computing similarity matrix.\n",
            "Computing the msd similarity matrix...\n",
            "Done computing similarity matrix.\n",
            "Evaluating RMSE, MAE of algorithm KNNBasic on 5 split(s).\n",
            "\n",
            "                  Fold 1  Fold 2  Fold 3  Fold 4  Fold 5  Mean    Std     \n",
            "RMSE (testset)    0.9628  0.9559  0.9677  0.9649  0.9627  0.9628  0.0039  \n",
            "MAE (testset)     0.7371  0.7326  0.7403  0.7412  0.7374  0.7377  0.0030  \n",
            "Fit time          0.13    0.15    0.16    0.15    0.16    0.15    0.01    \n",
            "Test time         1.45    1.57    1.43    1.58    1.47    1.50    0.06    \n",
            "16\n",
            "Computing the msd similarity matrix...\n",
            "Done computing similarity matrix.\n",
            "Computing the msd similarity matrix...\n",
            "Done computing similarity matrix.\n",
            "Computing the msd similarity matrix...\n",
            "Done computing similarity matrix.\n",
            "Computing the msd similarity matrix...\n",
            "Done computing similarity matrix.\n",
            "Computing the msd similarity matrix...\n",
            "Done computing similarity matrix.\n",
            "Evaluating RMSE, MAE of algorithm KNNBasic on 5 split(s).\n",
            "\n",
            "                  Fold 1  Fold 2  Fold 3  Fold 4  Fold 5  Mean    Std     \n",
            "RMSE (testset)    0.9612  0.9619  0.9635  0.9644  0.9667  0.9635  0.0019  \n",
            "MAE (testset)     0.7369  0.7374  0.7373  0.7389  0.7392  0.7380  0.0009  \n",
            "Fit time          0.12    0.15    0.15    0.16    0.16    0.15    0.02    \n",
            "Test time         1.45    1.47    1.46    1.62    1.49    1.50    0.06    \n",
            "17\n",
            "Computing the msd similarity matrix...\n",
            "Done computing similarity matrix.\n",
            "Computing the msd similarity matrix...\n",
            "Done computing similarity matrix.\n",
            "Computing the msd similarity matrix...\n",
            "Done computing similarity matrix.\n",
            "Computing the msd similarity matrix...\n",
            "Done computing similarity matrix.\n",
            "Computing the msd similarity matrix...\n",
            "Done computing similarity matrix.\n",
            "Evaluating RMSE, MAE of algorithm KNNBasic on 5 split(s).\n",
            "\n",
            "                  Fold 1  Fold 2  Fold 3  Fold 4  Fold 5  Mean    Std     \n",
            "RMSE (testset)    0.9520  0.9619  0.9671  0.9533  0.9740  0.9617  0.0083  \n",
            "MAE (testset)     0.7312  0.7373  0.7396  0.7301  0.7462  0.7369  0.0059  \n",
            "Fit time          0.12    0.16    0.18    0.16    0.16    0.16    0.02    \n",
            "Test time         1.59    1.51    1.60    1.52    1.58    1.56    0.04    \n",
            "18\n",
            "Computing the msd similarity matrix...\n",
            "Done computing similarity matrix.\n",
            "Computing the msd similarity matrix...\n",
            "Done computing similarity matrix.\n",
            "Computing the msd similarity matrix...\n",
            "Done computing similarity matrix.\n",
            "Computing the msd similarity matrix...\n",
            "Done computing similarity matrix.\n",
            "Computing the msd similarity matrix...\n",
            "Done computing similarity matrix.\n",
            "Evaluating RMSE, MAE of algorithm KNNBasic on 5 split(s).\n",
            "\n",
            "                  Fold 1  Fold 2  Fold 3  Fold 4  Fold 5  Mean    Std     \n",
            "RMSE (testset)    0.9704  0.9558  0.9672  0.9597  0.9579  0.9622  0.0056  \n",
            "MAE (testset)     0.7429  0.7315  0.7424  0.7350  0.7325  0.7369  0.0049  \n",
            "Fit time          0.12    0.16    0.16    0.17    0.16    0.15    0.02    \n",
            "Test time         1.50    1.63    1.51    1.66    1.46    1.55    0.08    \n",
            "19\n",
            "14 0.9608873084136897\n"
          ],
          "name": "stdout"
        }
      ]
    },
    {
      "cell_type": "code",
      "metadata": {
        "colab": {
          "base_uri": "https://localhost:8080/"
        },
        "id": "cvja9uxUzYBz",
        "outputId": "f64aefb0-f879-4d8f-8dd6-4d32599dd888"
      },
      "source": [
        "min_k_value = 1\n",
        "mean = 99999\n",
        "icf_k_results = []\n",
        "\n",
        "for i in range(20):\n",
        "  knn_ucf = KNNBasic(sim_options={'user_based': False}, k=i)\n",
        "  cv_knn_ucf = cross_validate(knn_ucf, data, measures, verbose=True, cv=5)\n",
        "\n",
        "  curr_mean = cv_knn_ucf['test_rmse'].mean()\n",
        "  if curr_mean < mean:\n",
        "    mean = curr_mean\n",
        "    min_k_value = i\n",
        "  icf_k_results.append(curr_mean)\n",
        "\n",
        "print(min_k_value, mean)"
      ],
      "execution_count": 98,
      "outputs": [
        {
          "output_type": "stream",
          "text": [
            "Computing the msd similarity matrix...\n",
            "Done computing similarity matrix.\n",
            "Computing the msd similarity matrix...\n",
            "Done computing similarity matrix.\n",
            "Computing the msd similarity matrix...\n",
            "Done computing similarity matrix.\n",
            "Computing the msd similarity matrix...\n",
            "Done computing similarity matrix.\n",
            "Computing the msd similarity matrix...\n",
            "Done computing similarity matrix.\n",
            "Evaluating RMSE, MAE of algorithm KNNBasic on 5 split(s).\n",
            "\n",
            "                  Fold 1  Fold 2  Fold 3  Fold 4  Fold 5  Mean    Std     \n",
            "RMSE (testset)    1.0544  1.0611  1.0590  1.0594  1.0565  1.0581  0.0023  \n",
            "MAE (testset)     0.8476  0.8511  0.8512  0.8500  0.8490  0.8498  0.0014  \n",
            "Fit time          4.60    4.76    3.95    3.98    4.29    4.31    0.32    \n",
            "Test time         4.14    4.25    4.11    4.15    4.08    4.15    0.06    \n",
            "Computing the msd similarity matrix...\n",
            "Done computing similarity matrix.\n",
            "Computing the msd similarity matrix...\n",
            "Done computing similarity matrix.\n",
            "Computing the msd similarity matrix...\n",
            "Done computing similarity matrix.\n",
            "Computing the msd similarity matrix...\n",
            "Done computing similarity matrix.\n",
            "Computing the msd similarity matrix...\n",
            "Done computing similarity matrix.\n",
            "Evaluating RMSE, MAE of algorithm KNNBasic on 5 split(s).\n",
            "\n",
            "                  Fold 1  Fold 2  Fold 3  Fold 4  Fold 5  Mean    Std     \n",
            "RMSE (testset)    1.2952  1.2978  1.3033  1.2968  1.3060  1.2998  0.0041  \n",
            "MAE (testset)     0.9643  0.9587  0.9638  0.9585  0.9616  0.9614  0.0024  \n",
            "Fit time          4.16    4.17    3.88    4.05    4.17    4.08    0.11    \n",
            "Test time         5.08    5.11    5.24    5.28    5.17    5.17    0.08    \n",
            "Computing the msd similarity matrix...\n",
            "Done computing similarity matrix.\n",
            "Computing the msd similarity matrix...\n",
            "Done computing similarity matrix.\n",
            "Computing the msd similarity matrix...\n",
            "Done computing similarity matrix.\n",
            "Computing the msd similarity matrix...\n",
            "Done computing similarity matrix.\n",
            "Computing the msd similarity matrix...\n",
            "Done computing similarity matrix.\n",
            "Evaluating RMSE, MAE of algorithm KNNBasic on 5 split(s).\n",
            "\n",
            "                  Fold 1  Fold 2  Fold 3  Fold 4  Fold 5  Mean    Std     \n",
            "RMSE (testset)    1.1416  1.1360  1.1453  1.1412  1.1408  1.1410  0.0030  \n",
            "MAE (testset)     0.8722  0.8670  0.8698  0.8707  0.8739  0.8707  0.0024  \n",
            "Fit time          4.39    4.11    3.97    4.32    4.11    4.18    0.15    \n",
            "Test time         5.53    5.47    5.56    5.36    5.54    5.49    0.07    \n",
            "Computing the msd similarity matrix...\n",
            "Done computing similarity matrix.\n",
            "Computing the msd similarity matrix...\n",
            "Done computing similarity matrix.\n",
            "Computing the msd similarity matrix...\n",
            "Done computing similarity matrix.\n",
            "Computing the msd similarity matrix...\n",
            "Done computing similarity matrix.\n",
            "Computing the msd similarity matrix...\n",
            "Done computing similarity matrix.\n",
            "Evaluating RMSE, MAE of algorithm KNNBasic on 5 split(s).\n",
            "\n",
            "                  Fold 1  Fold 2  Fold 3  Fold 4  Fold 5  Mean    Std     \n",
            "RMSE (testset)    1.0837  1.0752  1.0830  1.0781  1.0775  1.0795  0.0033  \n",
            "MAE (testset)     0.8381  0.8248  0.8315  0.8259  0.8305  0.8302  0.0047  \n",
            "Fit time          4.17    4.16    3.92    3.91    4.11    4.05    0.12    \n",
            "Test time         5.39    5.72    5.66    5.60    5.66    5.61    0.12    \n",
            "Computing the msd similarity matrix...\n",
            "Done computing similarity matrix.\n",
            "Computing the msd similarity matrix...\n",
            "Done computing similarity matrix.\n",
            "Computing the msd similarity matrix...\n",
            "Done computing similarity matrix.\n",
            "Computing the msd similarity matrix...\n",
            "Done computing similarity matrix.\n",
            "Computing the msd similarity matrix...\n",
            "Done computing similarity matrix.\n",
            "Evaluating RMSE, MAE of algorithm KNNBasic on 5 split(s).\n",
            "\n",
            "                  Fold 1  Fold 2  Fold 3  Fold 4  Fold 5  Mean    Std     \n",
            "RMSE (testset)    1.0371  1.0390  1.0431  1.0508  1.0501  1.0440  0.0056  \n",
            "MAE (testset)     0.8035  0.8016  0.8067  0.8083  0.8102  0.8061  0.0031  \n",
            "Fit time          4.07    3.85    3.95    3.90    3.92    3.94    0.07    \n",
            "Test time         5.57    5.54    5.86    5.67    5.92    5.71    0.15    \n",
            "Computing the msd similarity matrix...\n",
            "Done computing similarity matrix.\n",
            "Computing the msd similarity matrix...\n",
            "Done computing similarity matrix.\n",
            "Computing the msd similarity matrix...\n",
            "Done computing similarity matrix.\n",
            "Computing the msd similarity matrix...\n",
            "Done computing similarity matrix.\n",
            "Computing the msd similarity matrix...\n",
            "Done computing similarity matrix.\n",
            "Evaluating RMSE, MAE of algorithm KNNBasic on 5 split(s).\n",
            "\n",
            "                  Fold 1  Fold 2  Fold 3  Fold 4  Fold 5  Mean    Std     \n",
            "RMSE (testset)    1.0306  1.0144  1.0237  1.0386  1.0158  1.0246  0.0091  \n",
            "MAE (testset)     0.7943  0.7867  0.7912  0.8057  0.7838  0.7923  0.0076  \n",
            "Fit time          4.17    3.82    3.90    3.99    4.04    3.98    0.12    \n",
            "Test time         5.73    5.69    5.66    5.86    5.77    5.74    0.07    \n",
            "Computing the msd similarity matrix...\n",
            "Done computing similarity matrix.\n",
            "Computing the msd similarity matrix...\n",
            "Done computing similarity matrix.\n",
            "Computing the msd similarity matrix...\n",
            "Done computing similarity matrix.\n",
            "Computing the msd similarity matrix...\n",
            "Done computing similarity matrix.\n",
            "Computing the msd similarity matrix...\n",
            "Done computing similarity matrix.\n",
            "Evaluating RMSE, MAE of algorithm KNNBasic on 5 split(s).\n",
            "\n",
            "                  Fold 1  Fold 2  Fold 3  Fold 4  Fold 5  Mean    Std     \n",
            "RMSE (testset)    1.0129  1.0136  1.0059  1.0049  1.0010  1.0077  0.0049  \n",
            "MAE (testset)     0.7843  0.7826  0.7752  0.7776  0.7754  0.7790  0.0038  \n",
            "Fit time          4.06    3.89    4.06    4.30    4.03    4.07    0.13    \n",
            "Test time         5.64    5.65    5.80    5.68    5.76    5.70    0.07    \n",
            "Computing the msd similarity matrix...\n",
            "Done computing similarity matrix.\n",
            "Computing the msd similarity matrix...\n",
            "Done computing similarity matrix.\n",
            "Computing the msd similarity matrix...\n",
            "Done computing similarity matrix.\n",
            "Computing the msd similarity matrix...\n",
            "Done computing similarity matrix.\n",
            "Computing the msd similarity matrix...\n",
            "Done computing similarity matrix.\n",
            "Evaluating RMSE, MAE of algorithm KNNBasic on 5 split(s).\n",
            "\n",
            "                  Fold 1  Fold 2  Fold 3  Fold 4  Fold 5  Mean    Std     \n",
            "RMSE (testset)    0.9922  0.9960  1.0010  1.0038  0.9929  0.9972  0.0045  \n",
            "MAE (testset)     0.7667  0.7687  0.7754  0.7783  0.7663  0.7711  0.0049  \n",
            "Fit time          4.12    3.95    3.99    4.28    4.15    4.10    0.12    \n",
            "Test time         5.78    5.85    6.11    5.77    5.79    5.86    0.13    \n",
            "Computing the msd similarity matrix...\n",
            "Done computing similarity matrix.\n",
            "Computing the msd similarity matrix...\n",
            "Done computing similarity matrix.\n",
            "Computing the msd similarity matrix...\n",
            "Done computing similarity matrix.\n",
            "Computing the msd similarity matrix...\n",
            "Done computing similarity matrix.\n",
            "Computing the msd similarity matrix...\n",
            "Done computing similarity matrix.\n",
            "Evaluating RMSE, MAE of algorithm KNNBasic on 5 split(s).\n",
            "\n",
            "                  Fold 1  Fold 2  Fold 3  Fold 4  Fold 5  Mean    Std     \n",
            "RMSE (testset)    0.9936  0.9769  0.9834  0.9881  0.9911  0.9866  0.0059  \n",
            "MAE (testset)     0.7697  0.7576  0.7636  0.7652  0.7661  0.7645  0.0040  \n",
            "Fit time          4.17    4.03    3.89    4.05    3.94    4.02    0.09    \n",
            "Test time         5.79    6.04    5.98    5.95    5.83    5.92    0.09    \n",
            "Computing the msd similarity matrix...\n",
            "Done computing similarity matrix.\n",
            "Computing the msd similarity matrix...\n",
            "Done computing similarity matrix.\n",
            "Computing the msd similarity matrix...\n",
            "Done computing similarity matrix.\n",
            "Computing the msd similarity matrix...\n",
            "Done computing similarity matrix.\n",
            "Computing the msd similarity matrix...\n",
            "Done computing similarity matrix.\n",
            "Evaluating RMSE, MAE of algorithm KNNBasic on 5 split(s).\n",
            "\n",
            "                  Fold 1  Fold 2  Fold 3  Fold 4  Fold 5  Mean    Std     \n",
            "RMSE (testset)    0.9789  0.9839  0.9742  0.9852  0.9768  0.9798  0.0042  \n",
            "MAE (testset)     0.7609  0.7621  0.7545  0.7593  0.7575  0.7589  0.0027  \n",
            "Fit time          4.23    4.07    4.02    3.95    3.95    4.04    0.10    \n",
            "Test time         6.07    5.98    6.01    5.94    6.11    6.02    0.06    \n",
            "Computing the msd similarity matrix...\n",
            "Done computing similarity matrix.\n",
            "Computing the msd similarity matrix...\n",
            "Done computing similarity matrix.\n",
            "Computing the msd similarity matrix...\n",
            "Done computing similarity matrix.\n",
            "Computing the msd similarity matrix...\n",
            "Done computing similarity matrix.\n",
            "Computing the msd similarity matrix...\n",
            "Done computing similarity matrix.\n",
            "Evaluating RMSE, MAE of algorithm KNNBasic on 5 split(s).\n",
            "\n",
            "                  Fold 1  Fold 2  Fold 3  Fold 4  Fold 5  Mean    Std     \n",
            "RMSE (testset)    0.9795  0.9771  0.9681  0.9795  0.9744  0.9757  0.0043  \n",
            "MAE (testset)     0.7559  0.7564  0.7476  0.7555  0.7566  0.7544  0.0034  \n",
            "Fit time          4.09    4.07    3.98    3.94    4.05    4.03    0.06    \n",
            "Test time         5.70    5.96    6.01    6.07    6.04    5.96    0.13    \n",
            "Computing the msd similarity matrix...\n",
            "Done computing similarity matrix.\n",
            "Computing the msd similarity matrix...\n",
            "Done computing similarity matrix.\n",
            "Computing the msd similarity matrix...\n",
            "Done computing similarity matrix.\n",
            "Computing the msd similarity matrix...\n",
            "Done computing similarity matrix.\n",
            "Computing the msd similarity matrix...\n",
            "Done computing similarity matrix.\n",
            "Evaluating RMSE, MAE of algorithm KNNBasic on 5 split(s).\n",
            "\n",
            "                  Fold 1  Fold 2  Fold 3  Fold 4  Fold 5  Mean    Std     \n",
            "RMSE (testset)    0.9745  0.9716  0.9627  0.9701  0.9738  0.9705  0.0042  \n",
            "MAE (testset)     0.7565  0.7495  0.7466  0.7491  0.7524  0.7508  0.0034  \n",
            "Fit time          4.12    3.87    3.94    4.00    4.10    4.01    0.09    \n",
            "Test time         5.97    6.01    6.25    6.11    6.30    6.13    0.13    \n",
            "Computing the msd similarity matrix...\n",
            "Done computing similarity matrix.\n",
            "Computing the msd similarity matrix...\n",
            "Done computing similarity matrix.\n",
            "Computing the msd similarity matrix...\n",
            "Done computing similarity matrix.\n",
            "Computing the msd similarity matrix...\n",
            "Done computing similarity matrix.\n",
            "Computing the msd similarity matrix...\n",
            "Done computing similarity matrix.\n",
            "Evaluating RMSE, MAE of algorithm KNNBasic on 5 split(s).\n",
            "\n",
            "                  Fold 1  Fold 2  Fold 3  Fold 4  Fold 5  Mean    Std     \n",
            "RMSE (testset)    0.9577  0.9663  0.9697  0.9692  0.9639  0.9654  0.0044  \n",
            "MAE (testset)     0.7423  0.7465  0.7497  0.7481  0.7484  0.7470  0.0026  \n",
            "Fit time          4.28    4.04    4.01    4.02    4.10    4.09    0.10    \n",
            "Test time         6.25    6.58    6.46    6.46    6.67    6.49    0.14    \n",
            "Computing the msd similarity matrix...\n",
            "Done computing similarity matrix.\n",
            "Computing the msd similarity matrix...\n",
            "Done computing similarity matrix.\n",
            "Computing the msd similarity matrix...\n",
            "Done computing similarity matrix.\n",
            "Computing the msd similarity matrix...\n",
            "Done computing similarity matrix.\n",
            "Computing the msd similarity matrix...\n",
            "Done computing similarity matrix.\n",
            "Evaluating RMSE, MAE of algorithm KNNBasic on 5 split(s).\n",
            "\n",
            "                  Fold 1  Fold 2  Fold 3  Fold 4  Fold 5  Mean    Std     \n",
            "RMSE (testset)    0.9544  0.9677  0.9619  0.9630  0.9584  0.9610  0.0045  \n",
            "MAE (testset)     0.7389  0.7482  0.7443  0.7439  0.7414  0.7433  0.0031  \n",
            "Fit time          4.27    3.95    4.10    4.16    4.02    4.10    0.11    \n",
            "Test time         6.39    6.69    6.47    6.62    6.56    6.55    0.11    \n",
            "Computing the msd similarity matrix...\n",
            "Done computing similarity matrix.\n",
            "Computing the msd similarity matrix...\n",
            "Done computing similarity matrix.\n",
            "Computing the msd similarity matrix...\n",
            "Done computing similarity matrix.\n",
            "Computing the msd similarity matrix...\n",
            "Done computing similarity matrix.\n",
            "Computing the msd similarity matrix...\n",
            "Done computing similarity matrix.\n",
            "Evaluating RMSE, MAE of algorithm KNNBasic on 5 split(s).\n",
            "\n",
            "                  Fold 1  Fold 2  Fold 3  Fold 4  Fold 5  Mean    Std     \n",
            "RMSE (testset)    0.9458  0.9681  0.9590  0.9641  0.9615  0.9597  0.0076  \n",
            "MAE (testset)     0.7327  0.7485  0.7425  0.7444  0.7438  0.7424  0.0052  \n",
            "Fit time          4.14    4.09    4.10    4.18    4.22    4.14    0.05    \n",
            "Test time         6.34    6.45    6.63    6.49    6.51    6.49    0.09    \n",
            "Computing the msd similarity matrix...\n",
            "Done computing similarity matrix.\n",
            "Computing the msd similarity matrix...\n",
            "Done computing similarity matrix.\n",
            "Computing the msd similarity matrix...\n",
            "Done computing similarity matrix.\n",
            "Computing the msd similarity matrix...\n",
            "Done computing similarity matrix.\n",
            "Computing the msd similarity matrix...\n",
            "Done computing similarity matrix.\n",
            "Evaluating RMSE, MAE of algorithm KNNBasic on 5 split(s).\n",
            "\n",
            "                  Fold 1  Fold 2  Fold 3  Fold 4  Fold 5  Mean    Std     \n",
            "RMSE (testset)    0.9578  0.9581  0.9667  0.9477  0.9529  0.9566  0.0063  \n",
            "MAE (testset)     0.7415  0.7428  0.7448  0.7321  0.7376  0.7397  0.0045  \n",
            "Fit time          4.26    3.93    4.00    4.13    4.03    4.07    0.12    \n",
            "Test time         6.41    6.66    6.47    6.53    6.40    6.49    0.10    \n",
            "Computing the msd similarity matrix...\n",
            "Done computing similarity matrix.\n",
            "Computing the msd similarity matrix...\n",
            "Done computing similarity matrix.\n",
            "Computing the msd similarity matrix...\n",
            "Done computing similarity matrix.\n",
            "Computing the msd similarity matrix...\n",
            "Done computing similarity matrix.\n",
            "Computing the msd similarity matrix...\n",
            "Done computing similarity matrix.\n",
            "Evaluating RMSE, MAE of algorithm KNNBasic on 5 split(s).\n",
            "\n",
            "                  Fold 1  Fold 2  Fold 3  Fold 4  Fold 5  Mean    Std     \n",
            "RMSE (testset)    0.9476  0.9502  0.9578  0.9568  0.9609  0.9546  0.0050  \n",
            "MAE (testset)     0.7357  0.7329  0.7395  0.7398  0.7422  0.7380  0.0033  \n",
            "Fit time          4.23    3.90    3.95    3.95    3.99    4.00    0.12    \n",
            "Test time         6.31    6.63    6.27    6.40    6.41    6.40    0.12    \n",
            "Computing the msd similarity matrix...\n",
            "Done computing similarity matrix.\n",
            "Computing the msd similarity matrix...\n",
            "Done computing similarity matrix.\n",
            "Computing the msd similarity matrix...\n",
            "Done computing similarity matrix.\n",
            "Computing the msd similarity matrix...\n",
            "Done computing similarity matrix.\n",
            "Computing the msd similarity matrix...\n",
            "Done computing similarity matrix.\n",
            "Evaluating RMSE, MAE of algorithm KNNBasic on 5 split(s).\n",
            "\n",
            "                  Fold 1  Fold 2  Fold 3  Fold 4  Fold 5  Mean    Std     \n",
            "RMSE (testset)    0.9489  0.9571  0.9510  0.9541  0.9532  0.9529  0.0028  \n",
            "MAE (testset)     0.7335  0.7358  0.7375  0.7393  0.7357  0.7364  0.0019  \n",
            "Fit time          4.14    4.22    4.01    4.25    4.23    4.17    0.09    \n",
            "Test time         6.40    6.38    6.40    6.61    6.62    6.48    0.11    \n",
            "Computing the msd similarity matrix...\n",
            "Done computing similarity matrix.\n",
            "Computing the msd similarity matrix...\n",
            "Done computing similarity matrix.\n",
            "Computing the msd similarity matrix...\n",
            "Done computing similarity matrix.\n",
            "Computing the msd similarity matrix...\n",
            "Done computing similarity matrix.\n",
            "Computing the msd similarity matrix...\n",
            "Done computing similarity matrix.\n",
            "Evaluating RMSE, MAE of algorithm KNNBasic on 5 split(s).\n",
            "\n",
            "                  Fold 1  Fold 2  Fold 3  Fold 4  Fold 5  Mean    Std     \n",
            "RMSE (testset)    0.9483  0.9456  0.9534  0.9573  0.9464  0.9502  0.0045  \n",
            "MAE (testset)     0.7323  0.7336  0.7350  0.7353  0.7327  0.7338  0.0012  \n",
            "Fit time          4.26    4.10    4.06    4.32    4.26    4.20    0.10    \n",
            "Test time         6.29    6.56    6.52    6.70    6.45    6.50    0.14    \n",
            "Computing the msd similarity matrix...\n",
            "Done computing similarity matrix.\n",
            "Computing the msd similarity matrix...\n",
            "Done computing similarity matrix.\n",
            "Computing the msd similarity matrix...\n",
            "Done computing similarity matrix.\n",
            "Computing the msd similarity matrix...\n",
            "Done computing similarity matrix.\n",
            "Computing the msd similarity matrix...\n",
            "Done computing similarity matrix.\n",
            "Evaluating RMSE, MAE of algorithm KNNBasic on 5 split(s).\n",
            "\n",
            "                  Fold 1  Fold 2  Fold 3  Fold 4  Fold 5  Mean    Std     \n",
            "RMSE (testset)    0.9442  0.9523  0.9573  0.9505  0.9461  0.9501  0.0046  \n",
            "MAE (testset)     0.7296  0.7380  0.7391  0.7327  0.7304  0.7339  0.0039  \n",
            "Fit time          4.24    4.04    3.95    3.72    4.01    3.99    0.17    \n",
            "Test time         6.28    6.46    6.43    6.40    6.60    6.44    0.10    \n",
            "19 0.9500808800827943\n"
          ],
          "name": "stdout"
        }
      ]
    },
    {
      "cell_type": "code",
      "metadata": {
        "colab": {
          "base_uri": "https://localhost:8080/",
          "height": 295
        },
        "id": "L5rRNWgu1Tp6",
        "outputId": "0b658196-ba25-4c3d-de30-73d31e01bcc0"
      },
      "source": [
        "plt.plot(icf_k_results)\n",
        "plt.xlabel(\"K\")\n",
        "plt.ylabel(\"RMSE\")\n",
        "plt.title(\"RMSE for various values of K for Item based CF\")\n",
        "plt.show()"
      ],
      "execution_count": 106,
      "outputs": [
        {
          "output_type": "display_data",
          "data": {
            "image/png": "[encoded data removed]",
            "text/plain": [
              "<Figure size 432x288 with 1 Axes>"
            ]
          },
          "metadata": {
            "tags": [],
            "needs_background": "light"
          }
        }
      ]
    },
    {
      "cell_type": "code",
      "metadata": {
        "colab": {
          "base_uri": "https://localhost:8080/",
          "height": 295
        },
        "id": "8rauw1FH5kXI",
        "outputId": "1c4007d8-a81d-46fd-cdb4-49d12958f301"
      },
      "source": [
        "plt.plot(ucf_k_results)\n",
        "plt.xlabel(\"K\")\n",
        "plt.ylabel(\"RMSE\")\n",
        "plt.title(\"RMSE for various values of K for User based CF\")\n",
        "plt.show()"
      ],
      "execution_count": 105,
      "outputs": [
        {
          "output_type": "display_data",
          "data": {
            "image/png": "[encoded data removed]",
            "text/plain": [
              "<Figure size 432x288 with 1 Axes>"
            ]
          },
          "metadata": {
            "tags": [],
            "needs_background": "light"
          }
        }
      ]
    },
    {
      "cell_type": "code",
      "metadata": {
        "colab": {
          "base_uri": "https://localhost:8080/",
          "height": 295
        },
        "id": "qvvV6Wgp6-Tg",
        "outputId": "15396cd1-3180-4463-8cd7-afa1ff7dd01d"
      },
      "source": [
        "plt.plot(ucf_k_results)\n",
        "plt.plot(icf_k_results, color='r')\n",
        "plt.xlabel(\"K\")\n",
        "plt.ylabel(\"RMSE\")\n",
        "plt.title(\"RMSE for various values of K for User based CF and Item based CF\")\n",
        "plt.show()"
      ],
      "execution_count": 108,
      "outputs": [
        {
          "output_type": "display_data",
          "data": {
            "image/png": "[encoded data removed]",
            "text/plain": [
              "<Figure size 432x288 with 1 Axes>"
            ]
          },
          "metadata": {
            "tags": [],
            "needs_background": "light"
          }
        }
      ]
    },
    {
      "cell_type": "code",
      "metadata": {
        "id": "kS-2tBh87h1A"
      },
      "source": [
        ""
      ],
      "execution_count": null,
      "outputs": []
    }
  ]
}