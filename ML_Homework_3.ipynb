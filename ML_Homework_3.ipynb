{
  "nbformat": 4,
  "nbformat_minor": 0,
  "metadata": {
    "colab": {
      "name": "ML Homework 3.ipynb",
      "provenance": [],
      "collapsed_sections": [],
      "authorship_tag": "ABX9TyOU6BBxiaFd0I9jjE91fjYd",
      "include_colab_link": true
    },
    "kernelspec": {
      "name": "python3",
      "display_name": "Python 3"
    }
  },
  "cells": [
    {
      "cell_type": "markdown",
      "metadata": {
        "id": "view-in-github",
        "colab_type": "text"
      },
      "source": [
        "<a href=\"https://colab.research.google.com/github/keidakira/machine-learning-ucf/blob/main/ML_Homework_3.ipynb\" target=\"_parent\"><img src=\"https://colab.research.google.com/assets/colab-badge.svg\" alt=\"Open In Colab\"/></a>"
      ]
    },
    {
      "cell_type": "code",
      "metadata": {
        "id": "C93nY6LMj4jk"
      },
      "source": [
        "import pandas as pd\r\n",
        "import numpy as np\r\n",
        "import matplotlib.pyplot as plt\r\n",
        "import re\r\n",
        "\r\n",
        "from sklearn import tree\r\n",
        "\r\n",
        "from IPython.display import Image as PImage\r\n",
        "from subprocess import check_call\r\n",
        "from PIL import Image, ImageDraw, ImageFont\r\n",
        "\r\n",
        "from sklearn.ensemble import RandomForestClassifier\r\n",
        "from sklearn.model_selection import train_test_split\r\n",
        "from sklearn.metrics import accuracy_score\r\n",
        "from sklearn.model_selection import KFold\r\n",
        "from sklearn.model_selection import cross_val_score\r\n",
        "from sklearn.model_selection import cross_val_predict\r\n",
        "from sklearn.metrics import confusion_matrix\r\n",
        "from sklearn.model_selection import train_test_split"
      ],
      "execution_count": 2,
      "outputs": []
    },
    {
      "cell_type": "code",
      "metadata": {
        "colab": {
          "base_uri": "https://localhost:8080/"
        },
        "id": "mWo5nXf1j9kI",
        "outputId": "cd401a86-7c54-494b-bd28-8bdb55837013"
      },
      "source": [
        "# URLs contain the train.csv and test.csv file from the Titanic dataset\r\n",
        "train_download = \"https://docs.google.com/uc?export=download&id=1SxOK4zcBPL2C0ArlxFyLavnvEjgzjKQ_\"\r\n",
        "test_download = \"https://docs.google.com/uc?export=download&id=1W6Lth3OEjzqyLg5O8U_TCT1oayebB2dE\"\r\n",
        "\r\n",
        "!wget -O train.csv --no-check-certificate \"$train_download\"\r\n",
        "!wget -O test.csv --no-check-certificate \"$test_download\"\r\n",
        "\r\n",
        "train_df = pd.read_csv('train.csv')\r\n",
        "test_df = pd.read_csv('test.csv')\r\n",
        "\r\n",
        "# Store our test passenger IDs for easy access\r\n",
        "PassengerId = test_df['PassengerId']"
      ],
      "execution_count": 3,
      "outputs": [
        {
          "output_type": "stream",
          "text": [
            "--2021-03-01 02:13:29--  https://docs.google.com/uc?export=download&id=1SxOK4zcBPL2C0ArlxFyLavnvEjgzjKQ_\n",
            "Resolving docs.google.com (docs.google.com)... 172.217.203.139, 172.217.203.102, 172.217.203.138, ...\n",
            "Connecting to docs.google.com (docs.google.com)|172.217.203.139|:443... connected.\n",
            "HTTP request sent, awaiting response... 302 Moved Temporarily\n",
            "Location: https://doc-00-68-docs.googleusercontent.com/docs/securesc/ha0ro937gcuc7l7deffksulhg5h7mbp1/srslb3h3sc5vu9c8465fk2efhsr2k91o/1614564750000/16552832296577571015/*/1SxOK4zcBPL2C0ArlxFyLavnvEjgzjKQ_?e=download [following]\n",
            "Warning: wildcards not supported in HTTP.\n",
            "--2021-03-01 02:13:29--  https://doc-00-68-docs.googleusercontent.com/docs/securesc/ha0ro937gcuc7l7deffksulhg5h7mbp1/srslb3h3sc5vu9c8465fk2efhsr2k91o/1614564750000/16552832296577571015/*/1SxOK4zcBPL2C0ArlxFyLavnvEjgzjKQ_?e=download\n",
            "Resolving doc-00-68-docs.googleusercontent.com (doc-00-68-docs.googleusercontent.com)... 173.194.217.132, 2607:f8b0:400c:c13::84\n",
            "Connecting to doc-00-68-docs.googleusercontent.com (doc-00-68-docs.googleusercontent.com)|173.194.217.132|:443... connected.\n",
            "HTTP request sent, awaiting response... 200 OK\n",
            "Length: 61194 (60K) [text/csv]\n",
            "Saving to: ‘train.csv’\n",
            "\n",
            "train.csv           100%[===================>]  59.76K  --.-KB/s    in 0.002s  \n",
            "\n",
            "2021-03-01 02:13:29 (24.8 MB/s) - ‘train.csv’ saved [61194/61194]\n",
            "\n",
            "--2021-03-01 02:13:30--  https://docs.google.com/uc?export=download&id=1W6Lth3OEjzqyLg5O8U_TCT1oayebB2dE\n",
            "Resolving docs.google.com (docs.google.com)... 173.194.215.138, 173.194.215.113, 173.194.215.101, ...\n",
            "Connecting to docs.google.com (docs.google.com)|173.194.215.138|:443... connected.\n",
            "HTTP request sent, awaiting response... 302 Moved Temporarily\n",
            "Location: https://doc-08-68-docs.googleusercontent.com/docs/securesc/ha0ro937gcuc7l7deffksulhg5h7mbp1/agj3mf49fqrovsfq4uut97v0uohdijlr/1614564750000/16552832296577571015/*/1W6Lth3OEjzqyLg5O8U_TCT1oayebB2dE?e=download [following]\n",
            "Warning: wildcards not supported in HTTP.\n",
            "--2021-03-01 02:13:30--  https://doc-08-68-docs.googleusercontent.com/docs/securesc/ha0ro937gcuc7l7deffksulhg5h7mbp1/agj3mf49fqrovsfq4uut97v0uohdijlr/1614564750000/16552832296577571015/*/1W6Lth3OEjzqyLg5O8U_TCT1oayebB2dE?e=download\n",
            "Resolving doc-08-68-docs.googleusercontent.com (doc-08-68-docs.googleusercontent.com)... 173.194.217.132, 2607:f8b0:400c:c13::84\n",
            "Connecting to doc-08-68-docs.googleusercontent.com (doc-08-68-docs.googleusercontent.com)|173.194.217.132|:443... connected.\n",
            "HTTP request sent, awaiting response... 200 OK\n",
            "Length: 28629 (28K) [text/csv]\n",
            "Saving to: ‘test.csv’\n",
            "\n",
            "test.csv            100%[===================>]  27.96K  --.-KB/s    in 0s      \n",
            "\n",
            "2021-03-01 02:13:30 (108 MB/s) - ‘test.csv’ saved [28629/28629]\n",
            "\n"
          ],
          "name": "stdout"
        }
      ]
    },
    {
      "cell_type": "markdown",
      "metadata": {
        "id": "e8o6vaBKmj-3"
      },
      "source": [
        "Titanic Data Pre-processing"
      ]
    },
    {
      "cell_type": "code",
      "metadata": {
        "id": "NcMVg9lJj99Q"
      },
      "source": [
        "full_data = [train_df, test_df]\r\n",
        "\r\n",
        "# Feature that tells whether a passenger had a cabin on the Titanic\r\n",
        "train_df['Has_Cabin'] = train_df[\"Cabin\"].apply(lambda x: 0 if type(x) == float else 1)\r\n",
        "test_df['Has_Cabin'] = test_df[\"Cabin\"].apply(lambda x: 0 if type(x) == float else 1)\r\n",
        "\r\n",
        "# Create new feature FamilySize as a combination of SibSp and Parch\r\n",
        "for dataset in full_data:\r\n",
        "    dataset['FamilySize'] = dataset['SibSp'] + dataset['Parch'] + 1\r\n",
        "# Create new feature IsAlone from FamilySize\r\n",
        "for dataset in full_data:\r\n",
        "    dataset['IsAlone'] = 0\r\n",
        "    dataset.loc[dataset['FamilySize'] == 1, 'IsAlone'] = 1\r\n",
        "# Remove all NULLS in the Embarked column\r\n",
        "for dataset in full_data:\r\n",
        "    dataset['Embarked'] = dataset['Embarked'].fillna('S')\r\n",
        "# Remove all NULLS in the Fare column\r\n",
        "for dataset in full_data:\r\n",
        "    dataset['Fare'] = dataset['Fare'].fillna(train_df['Fare'].median())\r\n",
        "\r\n",
        "# Remove all NULLS in the Age column\r\n",
        "for dataset in full_data:\r\n",
        "    age_avg = dataset['Age'].mean()\r\n",
        "    age_std = dataset['Age'].std()\r\n",
        "    age_null_count = dataset['Age'].isnull().sum()\r\n",
        "    age_null_random_list = np.random.randint(age_avg - age_std, age_avg + age_std, size=age_null_count)\r\n",
        "    # Next line has been improved to avoid warning\r\n",
        "    dataset.loc[np.isnan(dataset['Age']), 'Age'] = age_null_random_list\r\n",
        "    dataset['Age'] = dataset['Age'].astype(int)\r\n",
        "\r\n",
        "# Define function to extract titles from passenger names\r\n",
        "def get_title(name):\r\n",
        "    title_search = re.search(' ([A-Za-z]+)\\.', name)\r\n",
        "    # If the title exists, extract and return it.\r\n",
        "    if title_search:\r\n",
        "        return title_search.group(1)\r\n",
        "    return \"\"\r\n",
        "\r\n",
        "for dataset in full_data:\r\n",
        "    dataset['Title'] = dataset['Name'].apply(get_title)\r\n",
        "# Group all non-common titles into one single grouping \"Rare\"\r\n",
        "for dataset in full_data:\r\n",
        "    dataset['Title'] = dataset['Title'].replace(['Lady', 'Countess','Capt', 'Col','Don', 'Dr', 'Major', 'Rev', 'Sir', 'Jonkheer', 'Dona'], 'Rare')\r\n",
        "\r\n",
        "    dataset['Title'] = dataset['Title'].replace('Mlle', 'Miss')\r\n",
        "    dataset['Title'] = dataset['Title'].replace('Ms', 'Miss')\r\n",
        "    dataset['Title'] = dataset['Title'].replace('Mme', 'Mrs')\r\n",
        "\r\n",
        "for dataset in full_data:\r\n",
        "    # Mapping Sex\r\n",
        "    dataset['Sex'] = dataset['Sex'].map( {'female': 0, 'male': 1} ).astype(int)\r\n",
        "    \r\n",
        "    # Mapping titles\r\n",
        "    title_mapping = {\"Mr\": 1, \"Master\": 2, \"Mrs\": 3, \"Miss\": 4, \"Rare\": 5}\r\n",
        "    dataset['Title'] = dataset['Title'].map(title_mapping)\r\n",
        "    dataset['Title'] = dataset['Title'].fillna(0)\r\n",
        "\r\n",
        "    # Mapping Embarked\r\n",
        "    dataset['Embarked'] = dataset['Embarked'].map( {'S': 0, 'C': 1, 'Q': 2} ).astype(int)\r\n",
        "    \r\n",
        "    # Mapping Fare\r\n",
        "    dataset.loc[ dataset['Fare'] <= 7.91, 'Fare'] \t\t\t\t\t\t        = 0\r\n",
        "    dataset.loc[(dataset['Fare'] > 7.91) & (dataset['Fare'] <= 14.454), 'Fare'] = 1\r\n",
        "    dataset.loc[(dataset['Fare'] > 14.454) & (dataset['Fare'] <= 31), 'Fare']   = 2\r\n",
        "    dataset.loc[ dataset['Fare'] > 31, 'Fare'] \t\t\t\t\t\t\t        = 3\r\n",
        "    dataset['Fare'] = dataset['Fare'].astype(int)\r\n",
        "    \r\n",
        "    # Mapping Age\r\n",
        "    dataset.loc[ dataset['Age'] <= 16, 'Age'] \t\t\t\t\t       = 0\r\n",
        "    dataset.loc[(dataset['Age'] > 16) & (dataset['Age'] <= 32), 'Age'] = 1\r\n",
        "    dataset.loc[(dataset['Age'] > 32) & (dataset['Age'] <= 48), 'Age'] = 2\r\n",
        "    dataset.loc[(dataset['Age'] > 48) & (dataset['Age'] <= 64), 'Age'] = 3\r\n",
        "    dataset.loc[ dataset['Age'] > 64, 'Age'] ;"
      ],
      "execution_count": 4,
      "outputs": []
    },
    {
      "cell_type": "code",
      "metadata": {
        "id": "MhYNk2tIj_21"
      },
      "source": [
        "# Feature selection: remove variables no longer containing relevant information\r\n",
        "drop_elements = ['PassengerId', 'Name', 'Ticket', 'Cabin', 'SibSp']\r\n",
        "train_df = train_df.drop(drop_elements, axis = 1)\r\n",
        "test_df  = test_df.drop(drop_elements, axis = 1)"
      ],
      "execution_count": 5,
      "outputs": []
    },
    {
      "cell_type": "code",
      "metadata": {
        "id": "K4zkB7E2kRTr"
      },
      "source": [
        "def get_gini_impurity(survived_count, total_count):\r\n",
        "    survival_prob = survived_count/total_count\r\n",
        "    not_survival_prob = (1 - survival_prob)\r\n",
        "    random_observation_survived_prob = survival_prob\r\n",
        "    random_observation_not_survived_prob = (1 - random_observation_survived_prob)\r\n",
        "    mislabelling_survided_prob = not_survival_prob * random_observation_survived_prob\r\n",
        "    mislabelling_not_survided_prob = survival_prob * random_observation_not_survived_prob\r\n",
        "    gini_impurity = mislabelling_survided_prob + mislabelling_not_survided_prob\r\n",
        "    return gini_impurity"
      ],
      "execution_count": 6,
      "outputs": []
    },
    {
      "cell_type": "code",
      "metadata": {
        "colab": {
          "base_uri": "https://localhost:8080/"
        },
        "id": "MpclzXCRkSpb",
        "outputId": "e7337a91-7615-43c5-d0d6-b7319cb813e6"
      },
      "source": [
        "# Gini Impurity of starting node\r\n",
        "gini_impurity_starting_node = get_gini_impurity(342, 891)\r\n",
        "gini_impurity_starting_node"
      ],
      "execution_count": 7,
      "outputs": [
        {
          "output_type": "execute_result",
          "data": {
            "text/plain": [
              "0.47301295786144265"
            ]
          },
          "metadata": {
            "tags": []
          },
          "execution_count": 7
        }
      ]
    },
    {
      "cell_type": "code",
      "metadata": {
        "colab": {
          "base_uri": "https://localhost:8080/"
        },
        "id": "QMzJZRsSkTsD",
        "outputId": "16a6829c-65be-4d36-8e5c-8c8a5a226256"
      },
      "source": [
        "f = train_df.drop(\"Survived\", axis=1)\r\n",
        "t = train_df[\"Survived\"]\r\n",
        "\r\n",
        "X_train, X_test, y_train, y_test = train_test_split(f,t,test_size=0.3,random_state=1)\r\n",
        "X_train.shape, X_test.shape, y_train.shape, y_test.shape"
      ],
      "execution_count": 8,
      "outputs": [
        {
          "output_type": "execute_result",
          "data": {
            "text/plain": [
              "((623, 10), (268, 10), (623,), (268,))"
            ]
          },
          "metadata": {
            "tags": []
          },
          "execution_count": 8
        }
      ]
    },
    {
      "cell_type": "code",
      "metadata": {
        "colab": {
          "base_uri": "https://localhost:8080/"
        },
        "id": "gBkAUmbjkVNc",
        "outputId": "e97b46c3-38d8-4fc0-9b63-f3408cbffac6"
      },
      "source": [
        "f = train_df.drop(\"Survived\",axis=1)\r\n",
        "t = train_df[\"Survived\"]\r\n",
        "X_train,X_test,y_train,y_test = train_test_split(f,t,test_size=0.3,random_state=1)\r\n",
        "X_train.shape,X_test.shape,y_train.shape,y_test.shape"
      ],
      "execution_count": 9,
      "outputs": [
        {
          "output_type": "execute_result",
          "data": {
            "text/plain": [
              "((623, 10), (268, 10), (623,), (268,))"
            ]
          },
          "metadata": {
            "tags": []
          },
          "execution_count": 9
        }
      ]
    },
    {
      "cell_type": "markdown",
      "metadata": {
        "id": "pudxw2pOmb_i"
      },
      "source": [
        "\r\n",
        "\r\n",
        "---\r\n",
        "\r\n"
      ]
    },
    {
      "cell_type": "markdown",
      "metadata": {
        "id": "eElJ6n2CmaOw"
      },
      "source": [
        "Task 2 Code"
      ]
    },
    {
      "cell_type": "code",
      "metadata": {
        "colab": {
          "base_uri": "https://localhost:8080/",
          "height": 265
        },
        "id": "kUortofimMCx",
        "outputId": "5f809357-b348-4183-efd3-57c8b0ebfc84"
      },
      "source": [
        "import numpy as np\r\n",
        "import matplotlib.pyplot as plt\r\n",
        "from sklearn import svm, datasets\r\n",
        "\r\n",
        "# import some data to play with\r\n",
        "iris = datasets.load_iris()\r\n",
        "X = np.array([\r\n",
        "    [-1, -1],\r\n",
        "    [-1, 1],\r\n",
        "    [1, -1],\r\n",
        "    [1, 1]\r\n",
        "])\r\n",
        "\r\n",
        "y = np.array([0, 1, 1, 0])\r\n",
        "\r\n",
        "h = .02  # step size in the mesh\r\n",
        "\r\n",
        "C = 1.0  # SVM regularization parameter\r\n",
        "svc = svm.SVC(kernel='linear', C=C).fit(X, y)\r\n",
        "rbf_svc = svm.SVC(kernel='rbf', gamma=0.7, C=C).fit(X, y)\r\n",
        "poly_svc = svm.SVC(kernel='poly', degree=2, C=C).fit(X, y)\r\n",
        "lin_svc = svm.LinearSVC(C=C).fit(X, y)\r\n",
        "\r\n",
        "# create a mesh to plot in\r\n",
        "x_min, x_max = X[:, 0].min() - 1, X[:, 0].max() + 1\r\n",
        "y_min, y_max = X[:, 1].min() - 1, X[:, 1].max() + 1\r\n",
        "xx, yy = np.meshgrid(np.arange(x_min, x_max, h),\r\n",
        "                     np.arange(y_min, y_max, h))\r\n",
        "\r\n",
        "# title for the plots\r\n",
        "titles = ['SVC with linear kernel',\r\n",
        "          'LinearSVC (linear kernel)',\r\n",
        "          'SVC with RBF kernel',\r\n",
        "          'SVC with polynomial (degree 3) kernel']\r\n",
        "\r\n",
        "\r\n",
        "for i, clf in enumerate((svc, lin_svc, rbf_svc, poly_svc)):\r\n",
        "    # Plot the decision boundary. For that, we will assign a color to each\r\n",
        "    # point in the mesh [x_min, x_max]x[y_min, y_max].\r\n",
        "    if clf != poly_svc:\r\n",
        "        continue\r\n",
        "    # plt.subplot(2, 2, i + 1)\r\n",
        "    # plt.subplots_adjust(wspace=0.4, hspace=0.4)\r\n",
        "\r\n",
        "    Z = clf.predict(np.c_[xx.ravel(), yy.ravel()])\r\n",
        "\r\n",
        "    # Put the result into a color plot\r\n",
        "    Z = Z.reshape(xx.shape)\r\n",
        "    plt.contourf(xx, yy, Z, cmap=plt.cm.coolwarm, alpha=0.8)\r\n",
        "\r\n",
        "    # Plot also the training points\r\n",
        "    plt.scatter(X[:, 0], X[:, 1], c=y, cmap=plt.cm.coolwarm)\r\n",
        "\r\n",
        "    plt.xlim(xx.min(), xx.max())\r\n",
        "    plt.ylim(yy.min(), yy.max())\r\n",
        "    # plt.title(titles[i])\r\n",
        "\r\n",
        "plt.show()"
      ],
      "execution_count": 16,
      "outputs": [
        {
          "output_type": "display_data",
          "data": {
            "image/png": "[encoded data removed]",
            "text/plain": [
              "<Figure size 432x288 with 1 Axes>"
            ]
          },
          "metadata": {
            "tags": [],
            "needs_background": "light"
          }
        }
      ]
    },
    {
      "cell_type": "markdown",
      "metadata": {
        "id": "J4O0ssxfmYM4"
      },
      "source": [
        "Task 5 Code"
      ]
    },
    {
      "cell_type": "code",
      "metadata": {
        "colab": {
          "base_uri": "https://localhost:8080/",
          "height": 282
        },
        "id": "oUClXDL1mP6n",
        "outputId": "edde9701-0888-4fff-a022-186a8f6704e1"
      },
      "source": [
        "import numpy as np\r\n",
        "import matplotlib.pyplot as plt\r\n",
        "from sklearn import svm\r\n",
        "from sklearn.datasets import make_blobs\r\n",
        "\r\n",
        "\r\n",
        "# we create 40 separable points\r\n",
        "X = np.array([\r\n",
        "    [1, 1],\r\n",
        "    [2, 2],\r\n",
        "    [2, 0],\r\n",
        "    [0, 0],\r\n",
        "    [1, 0],\r\n",
        "    [0, 1]\r\n",
        "])\r\n",
        "\r\n",
        "y = np.array([1, 1, 1, 0, 0, 0])\r\n",
        "\r\n",
        "# fit the model, don't regularize for illustration purposes\r\n",
        "clf = svm.SVC(kernel='linear', C=1000)\r\n",
        "clf.fit(X, y)\r\n",
        "\r\n",
        "plt.scatter(X[:, 0], X[:, 1], c=['red', 'red', 'red', 'blue', 'blue', 'blue'], s=40, cmap=plt.cm.Paired)\r\n",
        "\r\n",
        "# plot the decision function\r\n",
        "ax = plt.gca()\r\n",
        "\r\n",
        "xlim = ax.get_xlim()\r\n",
        "ylim = ax.get_ylim()\r\n",
        "\r\n",
        "# create grid to evaluate model\r\n",
        "xx = np.linspace(xlim[0], xlim[1], 30)\r\n",
        "yy = np.linspace(ylim[0], ylim[1], 30)\r\n",
        "YY, XX = np.meshgrid(yy, xx)\r\n",
        "xy = np.vstack([XX.ravel(), YY.ravel()]).T\r\n",
        "Z = clf.decision_function(xy).reshape(XX.shape)\r\n",
        "\r\n",
        "# get the separating hyperplane\r\n",
        "w = clf.coef_[0]\r\n",
        "a = -w[0] / w[1]\r\n",
        "print(clf.coef0)\r\n",
        "# plot decision boundary and margins\r\n",
        "ax.contour(XX, YY, Z, colors='k', levels=[-1, 0, 1], alpha=0.5,\r\n",
        "           linestyles=['--', '-', '--'])\r\n",
        "# plot support vectors\r\n",
        "ax.scatter(clf.support_vectors_[:, 0], clf.support_vectors_[:, 1], s=100,\r\n",
        "           linewidth=1, facecolors='none', edgecolors='k')\r\n",
        "plt.show()"
      ],
      "execution_count": 17,
      "outputs": [
        {
          "output_type": "stream",
          "text": [
            "0.0\n"
          ],
          "name": "stdout"
        },
        {
          "output_type": "display_data",
          "data": {
            "image/png": "[encoded data removed]",
            "text/plain": [
              "<Figure size 432x288 with 1 Axes>"
            ]
          },
          "metadata": {
            "tags": [],
            "needs_background": "light"
          }
        }
      ]
    },
    {
      "cell_type": "markdown",
      "metadata": {
        "id": "ms_wuqDxmUkS"
      },
      "source": [
        "Task 6 Code"
      ]
    },
    {
      "cell_type": "code",
      "metadata": {
        "colab": {
          "base_uri": "https://localhost:8080/",
          "height": 248
        },
        "id": "P2JrjvXhmR46",
        "outputId": "70ff6d2f-2ab8-48eb-f168-fad6654372fa"
      },
      "source": [
        "import numpy as np\r\n",
        "import matplotlib.pyplot as plt\r\n",
        "from sklearn import svm, datasets\r\n",
        "\r\n",
        "iris = datasets.load_iris()\r\n",
        "\r\n",
        "X = np.array([\r\n",
        "  [1, 0, 0],\r\n",
        "  [1, -1*np.sqrt(2), 1],\r\n",
        "  [1, np.sqrt(2), 1]\r\n",
        "])\r\n",
        "\r\n",
        "Y = np.array([1, 0, 1])\r\n",
        "\r\n",
        "X = X[np.logical_or(Y==0,Y==1)]\r\n",
        "Y = Y[np.logical_or(Y==0,Y==1)]\r\n",
        "model = svm.SVC(kernel='linear')\r\n",
        "clf = model.fit(X, Y)\r\n",
        "# The equation of the separating plane is given by all x so that np.dot(svc.coef_[0], x) + b = 0.\r\n",
        "# Solve for w3 (z)\r\n",
        "z = lambda x,y: (-clf.intercept_[0]-clf.coef_[0][0]*x -clf.coef_[0][1]*y) / clf.coef_[0][2]\r\n",
        "tmp = np.linspace(-5,5,30)\r\n",
        "x,y = np.meshgrid(tmp,tmp)\r\n",
        "fig = plt.figure()\r\n",
        "ax = fig.add_subplot(111, projection='3d')\r\n",
        "ax.plot3D(X[Y==0,0], X[Y==0,1], X[Y==0,2],'ob')\r\n",
        "ax.plot3D(X[Y==1,0], X[Y==1,1], X[Y==1,2],'sr')\r\n",
        "ax.plot_surface(x, y, z(x,y))\r\n",
        "ax.view_init(41, 34)\r\n",
        "plt.show()"
      ],
      "execution_count": 18,
      "outputs": [
        {
          "output_type": "display_data",
          "data": {
            "image/png": "[encoded data removed]",
            "text/plain": [
              "<Figure size 432x288 with 1 Axes>"
            ]
          },
          "metadata": {
            "tags": [],
            "needs_background": "light"
          }
        }
      ]
    },
    {
      "cell_type": "markdown",
      "metadata": {
        "id": "fLx4Plg-mo0P"
      },
      "source": [
        "Task 7 Code"
      ]
    },
    {
      "cell_type": "code",
      "metadata": {
        "colab": {
          "base_uri": "https://localhost:8080/"
        },
        "id": "CDS5bUIxkZ5n",
        "outputId": "13697d01-6509-4439-e16e-9ba9c799b79b"
      },
      "source": [
        "from sklearn import svm\r\n",
        "from sklearn.impute import KNNImputer\r\n",
        "from sklearn.model_selection import cross_val_score\r\n",
        "clf = svm.SVC(kernel='linear')    # create the new kernel\r\n",
        "clf.fit(X_train, y_train.ravel());\r\n",
        "accuracy_score = cross_val_score(clf, X_train, y_train.ravel(), cv=5, scoring='accuracy').mean()\r\n",
        "print(\"Accuracy Score for Linear Kernel:\", accuracy_score)"
      ],
      "execution_count": 10,
      "outputs": [
        {
          "output_type": "stream",
          "text": [
            "Accuracy Score for Linear Kernel: 0.7993935483870966\n"
          ],
          "name": "stdout"
        }
      ]
    },
    {
      "cell_type": "code",
      "metadata": {
        "colab": {
          "base_uri": "https://localhost:8080/"
        },
        "id": "jvxu5xsAlzaV",
        "outputId": "8e7dd28f-ba9c-4f3b-d0d1-4671522f6210"
      },
      "source": [
        "clf = svm.SVC(kernel='poly', degree=2)\r\n",
        "clf.fit(X_train, y_train.ravel());\r\n",
        "accuracy_score = cross_val_score(clf, X_train, y_train.ravel(), cv=5, scoring='accuracy').mean()\r\n",
        "print(\"Accuracy Score for Quadratic Kernel:\", accuracy_score)"
      ],
      "execution_count": 11,
      "outputs": [
        {
          "output_type": "stream",
          "text": [
            "Accuracy Score for Quadratic Kernel: 0.7864516129032257\n"
          ],
          "name": "stdout"
        }
      ]
    },
    {
      "cell_type": "code",
      "metadata": {
        "colab": {
          "base_uri": "https://localhost:8080/"
        },
        "id": "EhXoFWLkl0iF",
        "outputId": "aa613238-8a1e-48b8-e77b-8db914a5122a"
      },
      "source": [
        "clf = svm.SVC(kernel='rbf')\r\n",
        "clf.fit(X_train, y_train.ravel());\r\n",
        "\r\n",
        "# Calculate the accuracy using cross-validation.\r\n",
        "accuracy_score = cross_val_score(clf, X_train, y_train.ravel(), cv=5, scoring='accuracy').mean()\r\n",
        "print(\"Accuracy Score for RBF Kernel:\", accuracy_score)"
      ],
      "execution_count": 12,
      "outputs": [
        {
          "output_type": "stream",
          "text": [
            "Accuracy Score for RBF Kernel: 0.8009161290322581\n"
          ],
          "name": "stdout"
        }
      ]
    }
  ]
}