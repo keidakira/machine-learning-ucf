{
  "nbformat": 4,
  "nbformat_minor": 0,
  "metadata": {
    "colab": {
      "name": "Homework_ML_4 - Test.ipynb",
      "provenance": [],
      "collapsed_sections": []
    },
    "kernelspec": {
      "name": "python3",
      "display_name": "Python 3"
    }
  },
  "cells": [
    {
      "cell_type": "code",
      "metadata": {
        "id": "4TRSXgrbqsa5"
      },
      "source": [
        "import pandas as pd\r\n",
        "import matplotlib.pyplot as plt\r\n",
        "import seaborn as sns;\r\n",
        "from scipy.spatial import distance\r\n",
        "from sklearn.preprocessing import StandardScaler\r\n",
        "import time\r\n",
        "import math\r\n",
        "\r\n",
        "sns.set()  # for plot styling\r\n",
        "import numpy as np\r\n",
        "from collections import defaultdict\r\n",
        "\r\n",
        "from numpy import dot\r\n",
        "from numpy.linalg import norm"
      ],
      "execution_count": 64,
      "outputs": []
    },
    {
      "cell_type": "code",
      "metadata": {
        "id": "E9XYQ_xlms68"
      },
      "source": [
        "def lineToTuple(line):\n",
        "    # remove leading/trailing witespace and newlines\n",
        "    cleanLine = line.strip()\n",
        "    # get rid of quotes\n",
        "    cleanLine = cleanLine.replace('\"', '')\n",
        "    # separate the fields\n",
        "    lineList = cleanLine.split(\",\")\n",
        "    # convert strings into numbers\n",
        "    stringsToNumbers(lineList)\n",
        "    lineTuple = tuple(lineList)\n",
        "    return lineTuple"
      ],
      "execution_count": 65,
      "outputs": []
    },
    {
      "cell_type": "code",
      "metadata": {
        "id": "LhKEulTQmt09"
      },
      "source": [
        "def stringsToNumbers(myList):\n",
        "    for i in range(len(myList)):\n",
        "        if (isValidNumberString(myList[i])):\n",
        "            myList[i] = float(myList[i])\n"
      ],
      "execution_count": 66,
      "outputs": []
    },
    {
      "cell_type": "code",
      "metadata": {
        "id": "jQn_02a5mvlP"
      },
      "source": [
        "def isValidNumberString(s):\n",
        "  if len(s) == 0:\n",
        "    return False\n",
        "  if  len(s) > 1 and s[0] == \"-\":\n",
        "      s = s[1:]\n",
        "  for c in s:\n",
        "    if c not in \"0123456789.\":\n",
        "      return False\n",
        "  return True"
      ],
      "execution_count": 67,
      "outputs": []
    },
    {
      "cell_type": "code",
      "metadata": {
        "id": "dE0DdQBupBjp"
      },
      "source": [
        "data = [\r\n",
        "    [3, 5],\r\n",
        "    [3, 4],\r\n",
        "    [2, 8],\r\n",
        "    [2, 3],\r\n",
        "    [6, 2],\r\n",
        "    [6, 4],\r\n",
        "    [7, 3],\r\n",
        "    [7, 4],\r\n",
        "    [8, 5],\r\n",
        "    [7, 6]\r\n",
        "]"
      ],
      "execution_count": 68,
      "outputs": []
    },
    {
      "cell_type": "code",
      "metadata": {
        "id": "wyIeiADP6trN"
      },
      "source": [
        "def loadCSV(fileName):\r\n",
        "    fileHandler = open(fileName, \"rt\")\r\n",
        "    lines = fileHandler.readlines()\r\n",
        "    fileHandler.close()\r\n",
        "    del lines[0]  # remove the header\r\n",
        "    dataset = []\r\n",
        "    for line in lines:\r\n",
        "        instance = lineToTuple(line)\r\n",
        "        dataset.append(instance)\r\n",
        "    return dataset"
      ],
      "execution_count": 69,
      "outputs": []
    },
    {
      "cell_type": "code",
      "metadata": {
        "id": "IIuFIU_DlDdx"
      },
      "source": [
        "def euclidean_distance(point1, point2):\r\n",
        "    distance = 0\r\n",
        "    for a,b in zip(point1, point2):\r\n",
        "        distance += pow((a-b), 2)\r\n",
        "    return math.sqrt(distance)"
      ],
      "execution_count": 70,
      "outputs": []
    },
    {
      "cell_type": "code",
      "metadata": {
        "id": "7QDoEsrylCrU"
      },
      "source": [
        "def manhattan_distance(point1, point2):\r\n",
        "    distance = 0\r\n",
        "    for a,b in zip(point1, point2):\r\n",
        "        distance += abs(a-b)\r\n",
        "    return distance"
      ],
      "execution_count": 71,
      "outputs": []
    },
    {
      "cell_type": "code",
      "metadata": {
        "id": "KVlTe5NA_zGW"
      },
      "source": [
        "def cosine_similarity(point1, point2):\r\n",
        "  A = np.array(point1)\r\n",
        "  B = np.array(point2)\r\n",
        "  dist = 1 - np.dot(A,B)/(np.linalg.norm(A)*np.linalg.norm(B))\r\n",
        "  return dist"
      ],
      "execution_count": 72,
      "outputs": []
    },
    {
      "cell_type": "code",
      "metadata": {
        "id": "UjfbSlLEBgky"
      },
      "source": [
        "def jaccard(A, B):\r\n",
        "    return 1 - (np.sum(np.minimum(A,B), axis = 0)/np.sum(np.maximum(A, B), axis = 0)) "
      ],
      "execution_count": 73,
      "outputs": []
    },
    {
      "cell_type": "code",
      "metadata": {
        "id": "Yw8FfXMjrq4I"
      },
      "source": [
        "def calculate_centroid(cluster):\r\n",
        "  n = len(cluster[0])\r\n",
        "  if isinstance(cluster[0][-1], str):\r\n",
        "    centroid = [0]*(n-1)\r\n",
        "\r\n",
        "    for i in range(n-1):\r\n",
        "      for point in cluster:\r\n",
        "        centroid[i] += point[i]\r\n",
        "      centroid[i] = centroid[i]/len(cluster)\r\n",
        "  else:\r\n",
        "    centroid = [0]*n\r\n",
        "\r\n",
        "    for i in range(n):\r\n",
        "      for point in cluster:\r\n",
        "        centroid[i] += point[i]\r\n",
        "      centroid[i] = centroid[i]/len(cluster)\r\n",
        "\r\n",
        "  \r\n",
        "  return centroid"
      ],
      "execution_count": 74,
      "outputs": []
    },
    {
      "cell_type": "code",
      "metadata": {
        "id": "8HJKAWshzkxh"
      },
      "source": [
        "def draw_nd_scatter(clusters, centroid_centers):\r\n",
        "  for key in clusters:\r\n",
        "    x = []\r\n",
        "    y = []\r\n",
        "    cluster = clusters[key]\r\n",
        "    for c in cluster:\r\n",
        "      x.append(c[0])\r\n",
        "      y.append(c[1])\r\n",
        "    plt.scatter(x, y, marker='*', s=50, cmap='viridis')\r\n",
        "\r\n",
        "  for point in centroid_centers:\r\n",
        "    plt.scatter(point[0], point[1], c='black', s=200, alpha=0.5)\r\n",
        "  \r\n",
        "  plt.show()"
      ],
      "execution_count": 75,
      "outputs": []
    },
    {
      "cell_type": "code",
      "metadata": {
        "id": "tMtRv0cMRW8e"
      },
      "source": [
        "def label_cluster(cluster):\r\n",
        "  cl = defaultdict(int)\r\n",
        "  for point in cluster:\r\n",
        "    cl[point[-1]] += 1\r\n",
        "  return cl"
      ],
      "execution_count": 76,
      "outputs": []
    },
    {
      "cell_type": "code",
      "metadata": {
        "id": "HzRFjO0bltnu"
      },
      "source": [
        "class KMeans:\r\n",
        "  def __init__(self, n_clusters=3, max_iters=300, init_centroids=None, d_func=euclidean_distance, show_sse=False, show_first_centroid=False, centroid_stop=True):\r\n",
        "    self.n_clusters = n_clusters\r\n",
        "    self.max_iters = max_iters\r\n",
        "    self.init_centroids = init_centroids\r\n",
        "    self.d_func = d_func\r\n",
        "    self.sse_list = []\r\n",
        "    self.show_first_centroid = show_first_centroid\r\n",
        "    self.show_sse = show_sse\r\n",
        "    self.centroid_stop = centroid_stop\r\n",
        "\r\n",
        "  def fit(self, data):\r\n",
        "    start = time.time()\r\n",
        "    if self.init_centroids is None:\r\n",
        "      # Assign random points of data as centroids of size k (n_clusters)\r\n",
        "      random_choice = np.random.choice(range(len(data)), self.n_clusters, replace=False)\r\n",
        "      centroids = []\r\n",
        "\r\n",
        "      for choice in random_choice:\r\n",
        "        if isinstance(data[choice][-1], str):\r\n",
        "          centroids.append(data[choice][:-1])\r\n",
        "        else:\r\n",
        "          centroids.append(data[choice])\r\n",
        "      \r\n",
        "      self.init_centroids = centroids\r\n",
        "    \r\n",
        "    for loop in range(self.max_iters): \r\n",
        "      clusters = defaultdict(list)\r\n",
        "      sse = 0\r\n",
        "      # Now, assign each point to nearest centroid cluster\r\n",
        "\r\n",
        "      for point in data:\r\n",
        "        temp_centroid = -1\r\n",
        "        min_dist = 99999999\r\n",
        "        for i, centroid in enumerate(self.init_centroids):\r\n",
        "          if isinstance(point[-1], str):\r\n",
        "            d = self.d_func(point[:-1], centroid)\r\n",
        "          else:\r\n",
        "            d = self.d_func(point, centroid)\r\n",
        "          if d < min_dist:\r\n",
        "            temp_centroid = i\r\n",
        "            min_dist = d\r\n",
        "        \r\n",
        "        clusters[temp_centroid].append(point)\r\n",
        "\r\n",
        "      prev_centroids = self.init_centroids.copy()\r\n",
        "      # Now, recalculating the centroids\r\n",
        "      for key in clusters.keys():\r\n",
        "        cluster = clusters[key]\r\n",
        "        self.init_centroids[key] = calculate_centroid(cluster)\r\n",
        "\r\n",
        "      if loop == 1 and self.show_first_centroid == True:\r\n",
        "        print(\"Centroids after first iteration: \", self.init_centroids)\r\n",
        "\r\n",
        "      if self.centroid_stop == True and self.init_centroids == prev_centroids:\r\n",
        "        break\r\n",
        "\r\n",
        "      # Now, calculate SSE\r\n",
        "      for key in clusters.keys():\r\n",
        "        cluster = clusters[key]\r\n",
        "        ce = self.init_centroids[key]\r\n",
        "\r\n",
        "        for p in cluster:\r\n",
        "          sse += euclidean_distance(ce, p)\r\n",
        "\r\n",
        "      if self.show_sse == True and loop > 1 and self.sse_list[-1] <= sse:\r\n",
        "        self.sse_list.pop()\r\n",
        "        break\r\n",
        "\r\n",
        "      self.sse_list.append(sse)\r\n",
        "\r\n",
        "    print(\"Time taken:\", time.time() - start)\r\n",
        "    print(\"Number of iterations:\", loop)\r\n",
        "    return [self.init_centroids, clusters]\r\n"
      ],
      "execution_count": 77,
      "outputs": []
    },
    {
      "cell_type": "markdown",
      "metadata": {
        "id": "-TakniSsxcOe"
      },
      "source": [
        "Task 1: Question 1"
      ]
    },
    {
      "cell_type": "code",
      "metadata": {
        "colab": {
          "base_uri": "https://localhost:8080/",
          "height": 353
        },
        "id": "55z_GwnQnTx6",
        "outputId": "aa543803-5cef-4019-c7ea-09141b570a68"
      },
      "source": [
        "kmeans = KMeans(n_clusters=2, init_centroids=[[4, 6],[5, 4]], d_func=manhattan_distance, show_first_centroid=True)\r\n",
        "[centroid_centers, clusters] = kmeans.fit(data)\r\n",
        "\r\n",
        "for key in clusters:\r\n",
        "  print(\"Final Cluster\", key+1, \":\", clusters[key])\r\n",
        "\r\n",
        "draw_nd_scatter(clusters, centroid_centers)"
      ],
      "execution_count": 78,
      "outputs": [
        {
          "output_type": "stream",
          "text": [
            "Centroids after first iteration:  [[4.0, 6.333333333333333], [5.571428571428571, 3.5714285714285716]]\n",
            "Time taken: 0.001172780990600586\n",
            "Number of iterations: 1\n",
            "Final Cluster 1 : [[3, 5], [2, 8], [7, 6]]\n",
            "Final Cluster 2 : [[3, 4], [2, 3], [6, 2], [6, 4], [7, 3], [7, 4], [8, 5]]\n"
          ],
          "name": "stdout"
        },
        {
          "output_type": "display_data",
          "data": {
            "image/png": "[encoded data removed]",
            "text/plain": [
              "<Figure size 432x288 with 1 Axes>"
            ]
          },
          "metadata": {
            "tags": []
          }
        }
      ]
    },
    {
      "cell_type": "markdown",
      "metadata": {
        "id": "-48aVMcPxduf"
      },
      "source": [
        "Task 1: Question 2"
      ]
    },
    {
      "cell_type": "code",
      "metadata": {
        "colab": {
          "base_uri": "https://localhost:8080/",
          "height": 370
        },
        "id": "eRBt5WtXswOo",
        "outputId": "d9f1730f-cb49-4a7f-ab48-19b47377a3c1"
      },
      "source": [
        "kmeans = KMeans(n_clusters=2, init_centroids=[[4, 6],[5, 4]], d_func=euclidean_distance, show_first_centroid=True)\r\n",
        "[centroid_centers, clusters] = kmeans.fit(data)\r\n",
        "\r\n",
        "for key in clusters:\r\n",
        "  print(\"Final Cluster\", key+1, \":\", clusters[key])\r\n",
        "\r\n",
        "draw_nd_scatter(clusters, centroid_centers)\r\n",
        "print(kmeans.sse_list)"
      ],
      "execution_count": 79,
      "outputs": [
        {
          "output_type": "stream",
          "text": [
            "Centroids after first iteration:  [[2.5, 5.0], [6.833333333333333, 4.0]]\n",
            "Time taken: 0.0011248588562011719\n",
            "Number of iterations: 2\n",
            "Final Cluster 1 : [[3, 5], [3, 4], [2, 8], [2, 3]]\n",
            "Final Cluster 2 : [[6, 2], [6, 4], [7, 3], [7, 4], [8, 5], [7, 6]]\n"
          ],
          "name": "stdout"
        },
        {
          "output_type": "display_data",
          "data": {
            "image/png": "[encoded data removed]",
            "text/plain": [
              "<Figure size 432x288 with 1 Axes>"
            ]
          },
          "metadata": {
            "tags": []
          }
        },
        {
          "output_type": "stream",
          "text": [
            "[19.699965039247633, 14.444951661105069]\n"
          ],
          "name": "stdout"
        }
      ]
    },
    {
      "cell_type": "markdown",
      "metadata": {
        "id": "9FZs8kdWxfGn"
      },
      "source": [
        " Task 1: Question 3"
      ]
    },
    {
      "cell_type": "code",
      "metadata": {
        "colab": {
          "base_uri": "https://localhost:8080/",
          "height": 353
        },
        "id": "dR78lq_Ct_IE",
        "outputId": "ea946461-e3d8-41ad-8128-fb2917e15a27"
      },
      "source": [
        "kmeans = KMeans(n_clusters=2, init_centroids=[[3, 3], [8, 3]], d_func=manhattan_distance, show_first_centroid=True)\r\n",
        "[centroid_centers, clusters] = kmeans.fit(data)\r\n",
        "\r\n",
        "for key in clusters:\r\n",
        "  print(\"Final Cluster\", key+1, \":\", clusters[key])\r\n",
        "\r\n",
        "draw_nd_scatter(clusters, centroid_centers)"
      ],
      "execution_count": 80,
      "outputs": [
        {
          "output_type": "stream",
          "text": [
            "Centroids after first iteration:  [[2.5, 5.0], [6.833333333333333, 4.0]]\n",
            "Time taken: 0.0002846717834472656\n",
            "Number of iterations: 1\n",
            "Final Cluster 1 : [[3, 5], [3, 4], [2, 8], [2, 3]]\n",
            "Final Cluster 2 : [[6, 2], [6, 4], [7, 3], [7, 4], [8, 5], [7, 6]]\n"
          ],
          "name": "stdout"
        },
        {
          "output_type": "display_data",
          "data": {
            "image/png": "[encoded data removed]",
            "text/plain": [
              "<Figure size 432x288 with 1 Axes>"
            ]
          },
          "metadata": {
            "tags": []
          }
        }
      ]
    },
    {
      "cell_type": "markdown",
      "metadata": {
        "id": "Bb7Djyrgxgi3"
      },
      "source": [
        "Task 1: Question 4"
      ]
    },
    {
      "cell_type": "code",
      "metadata": {
        "colab": {
          "base_uri": "https://localhost:8080/",
          "height": 353
        },
        "id": "OqZnduuxuxN5",
        "outputId": "64c6495e-f4fa-4c15-94c8-96433a71b6ad"
      },
      "source": [
        "kmeans = KMeans(n_clusters=2, init_centroids=[[3, 2], [4, 8]], d_func=manhattan_distance, show_first_centroid=True)\r\n",
        "[centroid_centers, clusters] = kmeans.fit(data)\r\n",
        "\r\n",
        "for key in clusters:\r\n",
        "  print(\"Final Cluster\", key+1, \":\", clusters[key])\r\n",
        "\r\n",
        "draw_nd_scatter(clusters, centroid_centers)"
      ],
      "execution_count": 81,
      "outputs": [
        {
          "output_type": "stream",
          "text": [
            "Centroids after first iteration:  [[4.857142857142857, 3.5714285714285716], [5.666666666666667, 6.333333333333333]]\n",
            "Time taken: 0.0009012222290039062\n",
            "Number of iterations: 1\n",
            "Final Cluster 1 : [[3, 5], [3, 4], [2, 3], [6, 2], [6, 4], [7, 3], [7, 4]]\n",
            "Final Cluster 2 : [[2, 8], [8, 5], [7, 6]]\n"
          ],
          "name": "stdout"
        },
        {
          "output_type": "display_data",
          "data": {
            "image/png": "[encoded data removed]",
            "text/plain": [
              "<Figure size 432x288 with 1 Axes>"
            ]
          },
          "metadata": {
            "tags": []
          }
        }
      ]
    },
    {
      "cell_type": "markdown",
      "metadata": {
        "id": "0u8mXL8YAjZe"
      },
      "source": [
        "Task 2:"
      ]
    },
    {
      "cell_type": "code",
      "metadata": {
        "colab": {
          "base_uri": "https://localhost:8080/"
        },
        "id": "EkcSlSK2rikI",
        "outputId": "9025f076-da1d-46d9-c9a1-1537137e675a"
      },
      "source": [
        "!wget https://archive.ics.uci.edu/ml/machine-learning-databases/iris/iris.data"
      ],
      "execution_count": 82,
      "outputs": [
        {
          "output_type": "stream",
          "text": [
            "--2021-03-15 03:34:49--  https://archive.ics.uci.edu/ml/machine-learning-databases/iris/iris.data\n",
            "Resolving archive.ics.uci.edu (archive.ics.uci.edu)... 128.195.10.252\n",
            "Connecting to archive.ics.uci.edu (archive.ics.uci.edu)|128.195.10.252|:443... connected.\n",
            "HTTP request sent, awaiting response... 200 OK\n",
            "Length: 4551 (4.4K) [application/x-httpd-php]\n",
            "Saving to: ‘iris.data.1’\n",
            "\n",
            "\riris.data.1           0%[                    ]       0  --.-KB/s               \riris.data.1         100%[===================>]   4.44K  --.-KB/s    in 0s      \n",
            "\n",
            "2021-03-15 03:34:50 (93.2 MB/s) - ‘iris.data.1’ saved [4551/4551]\n",
            "\n"
          ],
          "name": "stdout"
        }
      ]
    },
    {
      "cell_type": "code",
      "metadata": {
        "id": "kxM5IkCV4VQ8"
      },
      "source": [
        "raw_iris_data = loadCSV('iris.data')"
      ],
      "execution_count": 83,
      "outputs": []
    },
    {
      "cell_type": "code",
      "metadata": {
        "colab": {
          "base_uri": "https://localhost:8080/"
        },
        "id": "k337056L7BpS",
        "outputId": "57dd4402-14a6-4636-e31e-e40597723863"
      },
      "source": [
        "iris_data = []\r\n",
        "del raw_iris_data[-1]\r\n",
        "\r\n",
        "for row in raw_iris_data:\r\n",
        "  iris_data.append([\r\n",
        "    row[0],\r\n",
        "    row[1],\r\n",
        "    row[2],\r\n",
        "    row[3],\r\n",
        "    row[4]\r\n",
        "  ])\r\n",
        "\r\n",
        "print(iris_data)"
      ],
      "execution_count": 84,
      "outputs": [
        {
          "output_type": "stream",
          "text": [
            "[[4.9, 3.0, 1.4, 0.2, 'Iris-setosa'], [4.7, 3.2, 1.3, 0.2, 'Iris-setosa'], [4.6, 3.1, 1.5, 0.2, 'Iris-setosa'], [5.0, 3.6, 1.4, 0.2, 'Iris-setosa'], [5.4, 3.9, 1.7, 0.4, 'Iris-setosa'], [4.6, 3.4, 1.4, 0.3, 'Iris-setosa'], [5.0, 3.4, 1.5, 0.2, 'Iris-setosa'], [4.4, 2.9, 1.4, 0.2, 'Iris-setosa'], [4.9, 3.1, 1.5, 0.1, 'Iris-setosa'], [5.4, 3.7, 1.5, 0.2, 'Iris-setosa'], [4.8, 3.4, 1.6, 0.2, 'Iris-setosa'], [4.8, 3.0, 1.4, 0.1, 'Iris-setosa'], [4.3, 3.0, 1.1, 0.1, 'Iris-setosa'], [5.8, 4.0, 1.2, 0.2, 'Iris-setosa'], [5.7, 4.4, 1.5, 0.4, 'Iris-setosa'], [5.4, 3.9, 1.3, 0.4, 'Iris-setosa'], [5.1, 3.5, 1.4, 0.3, 'Iris-setosa'], [5.7, 3.8, 1.7, 0.3, 'Iris-setosa'], [5.1, 3.8, 1.5, 0.3, 'Iris-setosa'], [5.4, 3.4, 1.7, 0.2, 'Iris-setosa'], [5.1, 3.7, 1.5, 0.4, 'Iris-setosa'], [4.6, 3.6, 1.0, 0.2, 'Iris-setosa'], [5.1, 3.3, 1.7, 0.5, 'Iris-setosa'], [4.8, 3.4, 1.9, 0.2, 'Iris-setosa'], [5.0, 3.0, 1.6, 0.2, 'Iris-setosa'], [5.0, 3.4, 1.6, 0.4, 'Iris-setosa'], [5.2, 3.5, 1.5, 0.2, 'Iris-setosa'], [5.2, 3.4, 1.4, 0.2, 'Iris-setosa'], [4.7, 3.2, 1.6, 0.2, 'Iris-setosa'], [4.8, 3.1, 1.6, 0.2, 'Iris-setosa'], [5.4, 3.4, 1.5, 0.4, 'Iris-setosa'], [5.2, 4.1, 1.5, 0.1, 'Iris-setosa'], [5.5, 4.2, 1.4, 0.2, 'Iris-setosa'], [4.9, 3.1, 1.5, 0.1, 'Iris-setosa'], [5.0, 3.2, 1.2, 0.2, 'Iris-setosa'], [5.5, 3.5, 1.3, 0.2, 'Iris-setosa'], [4.9, 3.1, 1.5, 0.1, 'Iris-setosa'], [4.4, 3.0, 1.3, 0.2, 'Iris-setosa'], [5.1, 3.4, 1.5, 0.2, 'Iris-setosa'], [5.0, 3.5, 1.3, 0.3, 'Iris-setosa'], [4.5, 2.3, 1.3, 0.3, 'Iris-setosa'], [4.4, 3.2, 1.3, 0.2, 'Iris-setosa'], [5.0, 3.5, 1.6, 0.6, 'Iris-setosa'], [5.1, 3.8, 1.9, 0.4, 'Iris-setosa'], [4.8, 3.0, 1.4, 0.3, 'Iris-setosa'], [5.1, 3.8, 1.6, 0.2, 'Iris-setosa'], [4.6, 3.2, 1.4, 0.2, 'Iris-setosa'], [5.3, 3.7, 1.5, 0.2, 'Iris-setosa'], [5.0, 3.3, 1.4, 0.2, 'Iris-setosa'], [7.0, 3.2, 4.7, 1.4, 'Iris-versicolor'], [6.4, 3.2, 4.5, 1.5, 'Iris-versicolor'], [6.9, 3.1, 4.9, 1.5, 'Iris-versicolor'], [5.5, 2.3, 4.0, 1.3, 'Iris-versicolor'], [6.5, 2.8, 4.6, 1.5, 'Iris-versicolor'], [5.7, 2.8, 4.5, 1.3, 'Iris-versicolor'], [6.3, 3.3, 4.7, 1.6, 'Iris-versicolor'], [4.9, 2.4, 3.3, 1.0, 'Iris-versicolor'], [6.6, 2.9, 4.6, 1.3, 'Iris-versicolor'], [5.2, 2.7, 3.9, 1.4, 'Iris-versicolor'], [5.0, 2.0, 3.5, 1.0, 'Iris-versicolor'], [5.9, 3.0, 4.2, 1.5, 'Iris-versicolor'], [6.0, 2.2, 4.0, 1.0, 'Iris-versicolor'], [6.1, 2.9, 4.7, 1.4, 'Iris-versicolor'], [5.6, 2.9, 3.6, 1.3, 'Iris-versicolor'], [6.7, 3.1, 4.4, 1.4, 'Iris-versicolor'], [5.6, 3.0, 4.5, 1.5, 'Iris-versicolor'], [5.8, 2.7, 4.1, 1.0, 'Iris-versicolor'], [6.2, 2.2, 4.5, 1.5, 'Iris-versicolor'], [5.6, 2.5, 3.9, 1.1, 'Iris-versicolor'], [5.9, 3.2, 4.8, 1.8, 'Iris-versicolor'], [6.1, 2.8, 4.0, 1.3, 'Iris-versicolor'], [6.3, 2.5, 4.9, 1.5, 'Iris-versicolor'], [6.1, 2.8, 4.7, 1.2, 'Iris-versicolor'], [6.4, 2.9, 4.3, 1.3, 'Iris-versicolor'], [6.6, 3.0, 4.4, 1.4, 'Iris-versicolor'], [6.8, 2.8, 4.8, 1.4, 'Iris-versicolor'], [6.7, 3.0, 5.0, 1.7, 'Iris-versicolor'], [6.0, 2.9, 4.5, 1.5, 'Iris-versicolor'], [5.7, 2.6, 3.5, 1.0, 'Iris-versicolor'], [5.5, 2.4, 3.8, 1.1, 'Iris-versicolor'], [5.5, 2.4, 3.7, 1.0, 'Iris-versicolor'], [5.8, 2.7, 3.9, 1.2, 'Iris-versicolor'], [6.0, 2.7, 5.1, 1.6, 'Iris-versicolor'], [5.4, 3.0, 4.5, 1.5, 'Iris-versicolor'], [6.0, 3.4, 4.5, 1.6, 'Iris-versicolor'], [6.7, 3.1, 4.7, 1.5, 'Iris-versicolor'], [6.3, 2.3, 4.4, 1.3, 'Iris-versicolor'], [5.6, 3.0, 4.1, 1.3, 'Iris-versicolor'], [5.5, 2.5, 4.0, 1.3, 'Iris-versicolor'], [5.5, 2.6, 4.4, 1.2, 'Iris-versicolor'], [6.1, 3.0, 4.6, 1.4, 'Iris-versicolor'], [5.8, 2.6, 4.0, 1.2, 'Iris-versicolor'], [5.0, 2.3, 3.3, 1.0, 'Iris-versicolor'], [5.6, 2.7, 4.2, 1.3, 'Iris-versicolor'], [5.7, 3.0, 4.2, 1.2, 'Iris-versicolor'], [5.7, 2.9, 4.2, 1.3, 'Iris-versicolor'], [6.2, 2.9, 4.3, 1.3, 'Iris-versicolor'], [5.1, 2.5, 3.0, 1.1, 'Iris-versicolor'], [5.7, 2.8, 4.1, 1.3, 'Iris-versicolor'], [6.3, 3.3, 6.0, 2.5, 'Iris-virginica'], [5.8, 2.7, 5.1, 1.9, 'Iris-virginica'], [7.1, 3.0, 5.9, 2.1, 'Iris-virginica'], [6.3, 2.9, 5.6, 1.8, 'Iris-virginica'], [6.5, 3.0, 5.8, 2.2, 'Iris-virginica'], [7.6, 3.0, 6.6, 2.1, 'Iris-virginica'], [4.9, 2.5, 4.5, 1.7, 'Iris-virginica'], [7.3, 2.9, 6.3, 1.8, 'Iris-virginica'], [6.7, 2.5, 5.8, 1.8, 'Iris-virginica'], [7.2, 3.6, 6.1, 2.5, 'Iris-virginica'], [6.5, 3.2, 5.1, 2.0, 'Iris-virginica'], [6.4, 2.7, 5.3, 1.9, 'Iris-virginica'], [6.8, 3.0, 5.5, 2.1, 'Iris-virginica'], [5.7, 2.5, 5.0, 2.0, 'Iris-virginica'], [5.8, 2.8, 5.1, 2.4, 'Iris-virginica'], [6.4, 3.2, 5.3, 2.3, 'Iris-virginica'], [6.5, 3.0, 5.5, 1.8, 'Iris-virginica'], [7.7, 3.8, 6.7, 2.2, 'Iris-virginica'], [7.7, 2.6, 6.9, 2.3, 'Iris-virginica'], [6.0, 2.2, 5.0, 1.5, 'Iris-virginica'], [6.9, 3.2, 5.7, 2.3, 'Iris-virginica'], [5.6, 2.8, 4.9, 2.0, 'Iris-virginica'], [7.7, 2.8, 6.7, 2.0, 'Iris-virginica'], [6.3, 2.7, 4.9, 1.8, 'Iris-virginica'], [6.7, 3.3, 5.7, 2.1, 'Iris-virginica'], [7.2, 3.2, 6.0, 1.8, 'Iris-virginica'], [6.2, 2.8, 4.8, 1.8, 'Iris-virginica'], [6.1, 3.0, 4.9, 1.8, 'Iris-virginica'], [6.4, 2.8, 5.6, 2.1, 'Iris-virginica'], [7.2, 3.0, 5.8, 1.6, 'Iris-virginica'], [7.4, 2.8, 6.1, 1.9, 'Iris-virginica'], [7.9, 3.8, 6.4, 2.0, 'Iris-virginica'], [6.4, 2.8, 5.6, 2.2, 'Iris-virginica'], [6.3, 2.8, 5.1, 1.5, 'Iris-virginica'], [6.1, 2.6, 5.6, 1.4, 'Iris-virginica'], [7.7, 3.0, 6.1, 2.3, 'Iris-virginica'], [6.3, 3.4, 5.6, 2.4, 'Iris-virginica'], [6.4, 3.1, 5.5, 1.8, 'Iris-virginica'], [6.0, 3.0, 4.8, 1.8, 'Iris-virginica'], [6.9, 3.1, 5.4, 2.1, 'Iris-virginica'], [6.7, 3.1, 5.6, 2.4, 'Iris-virginica'], [6.9, 3.1, 5.1, 2.3, 'Iris-virginica'], [5.8, 2.7, 5.1, 1.9, 'Iris-virginica'], [6.8, 3.2, 5.9, 2.3, 'Iris-virginica'], [6.7, 3.3, 5.7, 2.5, 'Iris-virginica'], [6.7, 3.0, 5.2, 2.3, 'Iris-virginica'], [6.3, 2.5, 5.0, 1.9, 'Iris-virginica'], [6.5, 3.0, 5.2, 2.0, 'Iris-virginica'], [6.2, 3.4, 5.4, 2.3, 'Iris-virginica'], [5.9, 3.0, 5.1, 1.8, 'Iris-virginica']]\n"
          ],
          "name": "stdout"
        }
      ]
    },
    {
      "cell_type": "code",
      "metadata": {
        "id": "11VstrOi5dre"
      },
      "source": [
        "original_labels = dict(label_cluster(iris_data))"
      ],
      "execution_count": 85,
      "outputs": []
    },
    {
      "cell_type": "markdown",
      "metadata": {
        "id": "XQRgI9oVtps_"
      },
      "source": [
        "Questions 1,2,3:"
      ]
    },
    {
      "cell_type": "code",
      "metadata": {
        "colab": {
          "base_uri": "https://localhost:8080/",
          "height": 372
        },
        "id": "X8qGPKFN7wUn",
        "outputId": "69482719-8d01-496c-b91a-ed62f5dedb30"
      },
      "source": [
        "kmeans = KMeans()\r\n",
        "[centroid_centers, clusters] = kmeans.fit(iris_data)\r\n",
        "\r\n",
        "labels = {'Iris-setosa': 0, 'Iris-versicolor': 0, 'Iris-virginica': 0}\r\n",
        "\r\n",
        "for key in clusters:\r\n",
        "  d = dict(label_cluster(clusters[key]))\r\n",
        "  mx = 0\r\n",
        "  s = 0\r\n",
        "  label = \"\"\r\n",
        "  for k in d:\r\n",
        "    s += d[k]\r\n",
        "    if d[k] > mx:\r\n",
        "      mx = d[k]\r\n",
        "      label = k\r\n",
        "  labels[label] = mx\r\n",
        "\r\n",
        "draw_nd_scatter(clusters, centroid_centers)\r\n",
        "\r\n",
        "print(\"SSE =\",kmeans.sse_list)\r\n",
        "print(\"Original Labels: \", original_labels)\r\n",
        "print(\"Predicted Labels: \", labels)\r\n",
        "\r\n",
        "total = 0\r\n",
        "mismatch = 0\r\n",
        "\r\n",
        "for l in original_labels:\r\n",
        "  total += original_labels[l]\r\n",
        "  mismatch += abs(original_labels[l] - labels[l])\r\n",
        "\r\n",
        "accuracy = (total - mismatch) / total\r\n",
        "\r\n",
        "print(\"Accuracy =\",accuracy)"
      ],
      "execution_count": 86,
      "outputs": [
        {
          "output_type": "stream",
          "text": [
            "Time taken: 0.014371395111083984\n",
            "Number of iterations: 9\n"
          ],
          "name": "stdout"
        },
        {
          "output_type": "display_data",
          "data": {
            "image/png": "[encoded data removed]",
            "text/plain": [
              "<Figure size 432x288 with 1 Axes>"
            ]
          },
          "metadata": {
            "tags": []
          }
        },
        {
          "output_type": "stream",
          "text": [
            "SSE = [100.80182137155406, 98.3773878546629, 98.09248458845802, 97.78012517424725, 97.53463660880878, 97.36328582285084, 97.22367033834894, 97.08179358885708, 97.19577229449335]\n",
            "Original Labels:  {'Iris-setosa': 49, 'Iris-versicolor': 50, 'Iris-virginica': 50}\n",
            "Predicted Labels:  {'Iris-setosa': 49, 'Iris-versicolor': 47, 'Iris-virginica': 36}\n",
            "Accuracy = 0.8859060402684564\n"
          ],
          "name": "stdout"
        }
      ]
    },
    {
      "cell_type": "code",
      "metadata": {
        "colab": {
          "base_uri": "https://localhost:8080/",
          "height": 372
        },
        "id": "qCdhW-IC_WWA",
        "outputId": "3b0966d7-0967-4f91-ffe8-bb98b110c8d7"
      },
      "source": [
        "kmeans = KMeans(d_func=cosine_similarity)\r\n",
        "[centroid_centers, clusters] = kmeans.fit(iris_data)\r\n",
        "\r\n",
        "labels = {'Iris-setosa': 0, 'Iris-versicolor': 0, 'Iris-virginica': 0}\r\n",
        "\r\n",
        "for key in clusters:\r\n",
        "  d = dict(label_cluster(clusters[key]))\r\n",
        "  mx = 0\r\n",
        "  s = 0\r\n",
        "  label = \"\"\r\n",
        "  for k in d:\r\n",
        "    s += d[k]\r\n",
        "    if d[k] > mx:\r\n",
        "      mx = d[k]\r\n",
        "      label = k\r\n",
        "  labels[label] = mx\r\n",
        "\r\n",
        "draw_nd_scatter(clusters, centroid_centers)\r\n",
        "\r\n",
        "print(\"SSE =\",kmeans.sse_list)\r\n",
        "print(\"Original Labels: \", original_labels)\r\n",
        "print(\"Predicted Labels: \", labels)\r\n",
        "\r\n",
        "total = 0\r\n",
        "mismatch = 0\r\n",
        "\r\n",
        "for l in original_labels:\r\n",
        "  total += original_labels[l]\r\n",
        "  mismatch += abs(original_labels[l] - labels[l])\r\n",
        "\r\n",
        "accuracy = (total - mismatch) / total\r\n",
        "\r\n",
        "print(\"Accuracy =\",accuracy)"
      ],
      "execution_count": 87,
      "outputs": [
        {
          "output_type": "stream",
          "text": [
            "Time taken: 0.035830020904541016\n",
            "Number of iterations: 3\n"
          ],
          "name": "stdout"
        },
        {
          "output_type": "display_data",
          "data": {
            "image/png": "[encoded data removed]",
            "text/plain": [
              "<Figure size 432x288 with 1 Axes>"
            ]
          },
          "metadata": {
            "tags": []
          }
        },
        {
          "output_type": "stream",
          "text": [
            "SSE = [105.02081482489211, 103.09308155183714, 101.42234214063515]\n",
            "Original Labels:  {'Iris-setosa': 49, 'Iris-versicolor': 50, 'Iris-virginica': 50}\n",
            "Predicted Labels:  {'Iris-setosa': 49, 'Iris-versicolor': 46, 'Iris-virginica': 50}\n",
            "Accuracy = 0.9731543624161074\n"
          ],
          "name": "stdout"
        }
      ]
    },
    {
      "cell_type": "code",
      "metadata": {
        "colab": {
          "base_uri": "https://localhost:8080/",
          "height": 372
        },
        "id": "gUrLGg2qAnNV",
        "outputId": "0540d79b-358c-47a2-f362-a32753b4849a"
      },
      "source": [
        "kmeans = KMeans(d_func=jaccard)\r\n",
        "[centroid_centers, clusters] = kmeans.fit(iris_data)\r\n",
        "\r\n",
        "labels = {'Iris-setosa': 0, 'Iris-versicolor': 0, 'Iris-virginica': 0}\r\n",
        "\r\n",
        "for key in clusters:\r\n",
        "  d = dict(label_cluster(clusters[key]))\r\n",
        "  mx = 0\r\n",
        "  s = 0\r\n",
        "  label = \"\"\r\n",
        "  for k in d:\r\n",
        "    s += d[k]\r\n",
        "    if d[k] > mx:\r\n",
        "      mx = d[k]\r\n",
        "      label = k\r\n",
        "  labels[label] = mx\r\n",
        "\r\n",
        "draw_nd_scatter(clusters, centroid_centers)\r\n",
        "\r\n",
        "print(\"SSE =\",kmeans.sse_list)\r\n",
        "print(\"Original Labels: \", original_labels)\r\n",
        "print(\"Predicted Labels: \", labels)\r\n",
        "\r\n",
        "total = 0\r\n",
        "mismatch = 0\r\n",
        "\r\n",
        "for l in original_labels:\r\n",
        "  total += original_labels[l]\r\n",
        "  mismatch += abs(original_labels[l] - labels[l])\r\n",
        "\r\n",
        "accuracy = (total - mismatch) / total\r\n",
        "\r\n",
        "print(\"Accuracy =\",accuracy)"
      ],
      "execution_count": 88,
      "outputs": [
        {
          "output_type": "stream",
          "text": [
            "Time taken: 0.07317757606506348\n",
            "Number of iterations: 5\n"
          ],
          "name": "stdout"
        },
        {
          "output_type": "display_data",
          "data": {
            "image/png": "[encoded data removed]",
            "text/plain": [
              "<Figure size 432x288 with 1 Axes>"
            ]
          },
          "metadata": {
            "tags": []
          }
        },
        {
          "output_type": "stream",
          "text": [
            "SSE = [192.59577674348867, 115.90929653315926, 98.62290415887882, 97.30122458977715, 97.33688011669413]\n",
            "Original Labels:  {'Iris-setosa': 49, 'Iris-versicolor': 50, 'Iris-virginica': 50}\n",
            "Predicted Labels:  {'Iris-setosa': 49, 'Iris-versicolor': 47, 'Iris-virginica': 35}\n",
            "Accuracy = 0.8791946308724832\n"
          ],
          "name": "stdout"
        }
      ]
    },
    {
      "cell_type": "markdown",
      "metadata": {
        "id": "PvLt73F3sudR"
      },
      "source": [
        "Question 4:"
      ]
    },
    {
      "cell_type": "markdown",
      "metadata": {
        "id": "rut6yiEGswDw"
      },
      "source": [
        "1st Stopping Criteria: No Change in Centroids"
      ]
    },
    {
      "cell_type": "markdown",
      "metadata": {
        "id": "TbUJLhQds0Pg"
      },
      "source": [
        "Euclidean Distance:"
      ]
    },
    {
      "cell_type": "code",
      "metadata": {
        "colab": {
          "base_uri": "https://localhost:8080/"
        },
        "id": "UYk4kl2irF01",
        "outputId": "8f7904e0-b0d6-435a-b490-572282efe72d"
      },
      "source": [
        "kmeans = KMeans(centroid_stop=True)\r\n",
        "[centroid_centers, clusters] = kmeans.fit(iris_data)\r\n",
        "print(kmeans.sse_list)"
      ],
      "execution_count": 89,
      "outputs": [
        {
          "output_type": "stream",
          "text": [
            "Time taken: 0.007222414016723633\n",
            "Number of iterations: 3\n",
            "[97.47100726126068, 97.08179358885708, 97.19577229449335]\n"
          ],
          "name": "stdout"
        }
      ]
    },
    {
      "cell_type": "markdown",
      "metadata": {
        "id": "zhrgMeFcs2Nw"
      },
      "source": [
        "Cosine Similarity:"
      ]
    },
    {
      "cell_type": "code",
      "metadata": {
        "colab": {
          "base_uri": "https://localhost:8080/"
        },
        "id": "KDhyEBMTsKc0",
        "outputId": "fc7b036c-ee90-49c1-f8ff-b69f3940f3f2"
      },
      "source": [
        "kmeans = KMeans(centroid_stop=True, d_func=cosine_similarity)\r\n",
        "[centroid_centers, clusters] = kmeans.fit(iris_data)\r\n",
        "print(kmeans.sse_list)"
      ],
      "execution_count": 90,
      "outputs": [
        {
          "output_type": "stream",
          "text": [
            "Time taken: 0.06786370277404785\n",
            "Number of iterations: 6\n",
            "[204.9598622698259, 125.54891375553177, 120.2051452536919, 108.56719905289465, 103.54886589220641, 101.42234214063515]\n"
          ],
          "name": "stdout"
        }
      ]
    },
    {
      "cell_type": "markdown",
      "metadata": {
        "id": "tq1CPYJzs5gq"
      },
      "source": [
        "Jaccard's Similarity:"
      ]
    },
    {
      "cell_type": "code",
      "metadata": {
        "colab": {
          "base_uri": "https://localhost:8080/"
        },
        "id": "qbwPPAHYsNRb",
        "outputId": "3c6bcd0f-bfc1-4d88-f6db-a201c58b9e5f"
      },
      "source": [
        "kmeans = KMeans(centroid_stop=True, d_func=jaccard)\r\n",
        "[centroid_centers, clusters] = kmeans.fit(iris_data)\r\n",
        "print(kmeans.sse_list)"
      ],
      "execution_count": 91,
      "outputs": [
        {
          "output_type": "stream",
          "text": [
            "Time taken: 0.09446287155151367\n",
            "Number of iterations: 7\n",
            "[260.3391551079816, 207.6786371133895, 147.93644093548312, 106.124941345287, 98.86385005588035, 97.30122458977715, 97.33688011669413]\n"
          ],
          "name": "stdout"
        }
      ]
    },
    {
      "cell_type": "markdown",
      "metadata": {
        "id": "SC2WAuAxs8CX"
      },
      "source": [
        "2nd Stopping Criteria: Increase in SSE"
      ]
    },
    {
      "cell_type": "markdown",
      "metadata": {
        "id": "I3GZsND2s_HH"
      },
      "source": [
        "Euclidean:"
      ]
    },
    {
      "cell_type": "code",
      "metadata": {
        "colab": {
          "base_uri": "https://localhost:8080/"
        },
        "id": "8yzGnQSEsREx",
        "outputId": "a8f26258-c80a-4399-c23c-f5cd9683f967"
      },
      "source": [
        "kmeans = KMeans(show_sse=True)\r\n",
        "[centroid_centers, clusters] = kmeans.fit(iris_data)\r\n",
        "print(kmeans.sse_list)"
      ],
      "execution_count": 92,
      "outputs": [
        {
          "output_type": "stream",
          "text": [
            "Time taken: 0.010270833969116211\n",
            "Number of iterations: 4\n",
            "[103.04798767406967, 97.34167202824129, 97.22367033834894]\n"
          ],
          "name": "stdout"
        }
      ]
    },
    {
      "cell_type": "markdown",
      "metadata": {
        "id": "8_HA_CQetAfh"
      },
      "source": [
        "Cosine Similarity:"
      ]
    },
    {
      "cell_type": "code",
      "metadata": {
        "colab": {
          "base_uri": "https://localhost:8080/"
        },
        "id": "owXDweTHsXmC",
        "outputId": "b6f76d2b-fd8b-4355-e756-3d24f3ff739f"
      },
      "source": [
        "kmeans = KMeans(show_sse=True, d_func=cosine_similarity)\r\n",
        "[centroid_centers, clusters] = kmeans.fit(iris_data)\r\n",
        "print(kmeans.sse_list)"
      ],
      "execution_count": 93,
      "outputs": [
        {
          "output_type": "stream",
          "text": [
            "Time taken: 0.03654289245605469\n",
            "Number of iterations: 3\n",
            "[186.21895498711856, 102.39411350501655, 101.42234214063515]\n"
          ],
          "name": "stdout"
        }
      ]
    },
    {
      "cell_type": "markdown",
      "metadata": {
        "id": "sNWne4a6tBtw"
      },
      "source": [
        "Jaccard's Similarity:"
      ]
    },
    {
      "cell_type": "code",
      "metadata": {
        "colab": {
          "base_uri": "https://localhost:8080/"
        },
        "id": "5hfeZnHNsZrU",
        "outputId": "098a34e6-7463-404e-9009-6aab46521bfb"
      },
      "source": [
        "kmeans = KMeans(show_sse=True, d_func=jaccard)\r\n",
        "[centroid_centers, clusters] = kmeans.fit(iris_data)\r\n",
        "print(kmeans.sse_list)"
      ],
      "execution_count": 94,
      "outputs": [
        {
          "output_type": "stream",
          "text": [
            "Time taken: 0.0886075496673584\n",
            "Number of iterations: 6\n",
            "[224.46400498658747, 157.82807016365885, 111.41089683994798, 100.66709178143309, 97.69080308192541, 97.33688011669413]\n"
          ],
          "name": "stdout"
        }
      ]
    },
    {
      "cell_type": "markdown",
      "metadata": {
        "id": "cbmc9fYAtMmQ"
      },
      "source": [
        "3rd Stopping Criteria: Max Iterations Complete"
      ]
    },
    {
      "cell_type": "markdown",
      "metadata": {
        "id": "ZZ8hQsYNtV3w"
      },
      "source": [
        "Euclidean:"
      ]
    },
    {
      "cell_type": "code",
      "metadata": {
        "colab": {
          "base_uri": "https://localhost:8080/"
        },
        "id": "XXCulS2VtRrP",
        "outputId": "24e77a28-dbdd-48df-97cd-934ba037825f"
      },
      "source": [
        "kmeans = KMeans(max_iters=101, show_sse=False, centroid_stop=False)\r\n",
        "[centroid_centers, clusters] = kmeans.fit(iris_data)\r\n",
        "print(kmeans.sse_list)"
      ],
      "execution_count": 95,
      "outputs": [
        {
          "output_type": "stream",
          "text": [
            "Time taken: 0.12788796424865723\n",
            "Number of iterations: 100\n",
            "[180.36109060520798, 126.94291605704201, 105.56496366895074, 99.24884441335948, 97.59007956128406, 97.17547683463661, 97.17547683463661, 97.17547683463661, 97.17547683463661, 97.17547683463661, 97.17547683463661, 97.17547683463661, 97.17547683463661, 97.17547683463661, 97.17547683463661, 97.17547683463661, 97.17547683463661, 97.17547683463661, 97.17547683463661, 97.17547683463661, 97.17547683463661, 97.17547683463661, 97.17547683463661, 97.17547683463661, 97.17547683463661, 97.17547683463661, 97.17547683463661, 97.17547683463661, 97.17547683463661, 97.17547683463661, 97.17547683463661, 97.17547683463661, 97.17547683463661, 97.17547683463661, 97.17547683463661, 97.17547683463661, 97.17547683463661, 97.17547683463661, 97.17547683463661, 97.17547683463661, 97.17547683463661, 97.17547683463661, 97.17547683463661, 97.17547683463661, 97.17547683463661, 97.17547683463661, 97.17547683463661, 97.17547683463661, 97.17547683463661, 97.17547683463661, 97.17547683463661, 97.17547683463661, 97.17547683463661, 97.17547683463661, 97.17547683463661, 97.17547683463661, 97.17547683463661, 97.17547683463661, 97.17547683463661, 97.17547683463661, 97.17547683463661, 97.17547683463661, 97.17547683463661, 97.17547683463661, 97.17547683463661, 97.17547683463661, 97.17547683463661, 97.17547683463661, 97.17547683463661, 97.17547683463661, 97.17547683463661, 97.17547683463661, 97.17547683463661, 97.17547683463661, 97.17547683463661, 97.17547683463661, 97.17547683463661, 97.17547683463661, 97.17547683463661, 97.17547683463661, 97.17547683463661, 97.17547683463661, 97.17547683463661, 97.17547683463661, 97.17547683463661, 97.17547683463661, 97.17547683463661, 97.17547683463661, 97.17547683463661, 97.17547683463661, 97.17547683463661, 97.17547683463661, 97.17547683463661, 97.17547683463661, 97.17547683463661, 97.17547683463661, 97.17547683463661, 97.17547683463661, 97.17547683463661, 97.17547683463661, 97.17547683463661]\n"
          ],
          "name": "stdout"
        }
      ]
    },
    {
      "cell_type": "markdown",
      "metadata": {
        "id": "J2n_sguqtXHm"
      },
      "source": [
        "Cosine Similarity:"
      ]
    },
    {
      "cell_type": "code",
      "metadata": {
        "colab": {
          "base_uri": "https://localhost:8080/"
        },
        "id": "VeXQRZvntYdX",
        "outputId": "b65c1bf5-38cd-49be-cc49-193bbecb1986"
      },
      "source": [
        "kmeans = KMeans(max_iters=101, show_sse=False, centroid_stop=False, d_func=cosine_similarity)\r\n",
        "[centroid_centers, clusters] = kmeans.fit(iris_data)\r\n",
        "print(kmeans.sse_list)"
      ],
      "execution_count": 96,
      "outputs": [
        {
          "output_type": "stream",
          "text": [
            "Time taken: 0.7909576892852783\n",
            "Number of iterations: 100\n",
            "[228.61953905380904, 129.14927092390064, 116.08325597194467, 107.21238667711542, 103.94558309524632, 101.42234214063515, 101.42234214063515, 101.42234214063515, 101.42234214063515, 101.42234214063515, 101.42234214063515, 101.42234214063515, 101.42234214063515, 101.42234214063515, 101.42234214063515, 101.42234214063515, 101.42234214063515, 101.42234214063515, 101.42234214063515, 101.42234214063515, 101.42234214063515, 101.42234214063515, 101.42234214063515, 101.42234214063515, 101.42234214063515, 101.42234214063515, 101.42234214063515, 101.42234214063515, 101.42234214063515, 101.42234214063515, 101.42234214063515, 101.42234214063515, 101.42234214063515, 101.42234214063515, 101.42234214063515, 101.42234214063515, 101.42234214063515, 101.42234214063515, 101.42234214063515, 101.42234214063515, 101.42234214063515, 101.42234214063515, 101.42234214063515, 101.42234214063515, 101.42234214063515, 101.42234214063515, 101.42234214063515, 101.42234214063515, 101.42234214063515, 101.42234214063515, 101.42234214063515, 101.42234214063515, 101.42234214063515, 101.42234214063515, 101.42234214063515, 101.42234214063515, 101.42234214063515, 101.42234214063515, 101.42234214063515, 101.42234214063515, 101.42234214063515, 101.42234214063515, 101.42234214063515, 101.42234214063515, 101.42234214063515, 101.42234214063515, 101.42234214063515, 101.42234214063515, 101.42234214063515, 101.42234214063515, 101.42234214063515, 101.42234214063515, 101.42234214063515, 101.42234214063515, 101.42234214063515, 101.42234214063515, 101.42234214063515, 101.42234214063515, 101.42234214063515, 101.42234214063515, 101.42234214063515, 101.42234214063515, 101.42234214063515, 101.42234214063515, 101.42234214063515, 101.42234214063515, 101.42234214063515, 101.42234214063515, 101.42234214063515, 101.42234214063515, 101.42234214063515, 101.42234214063515, 101.42234214063515, 101.42234214063515, 101.42234214063515, 101.42234214063515, 101.42234214063515, 101.42234214063515, 101.42234214063515, 101.42234214063515, 101.42234214063515]\n"
          ],
          "name": "stdout"
        }
      ]
    },
    {
      "cell_type": "markdown",
      "metadata": {
        "id": "mxVO6MahtbCv"
      },
      "source": [
        "Jaccard's Similarity:"
      ]
    },
    {
      "cell_type": "code",
      "metadata": {
        "colab": {
          "base_uri": "https://localhost:8080/"
        },
        "id": "i6cZ4laJtdkQ",
        "outputId": "7d98994c-cd05-41f5-8ab7-036e45bf5d20"
      },
      "source": [
        "kmeans = KMeans(max_iters=101, show_sse=False, centroid_stop=False, d_func=jaccard)\r\n",
        "[centroid_centers, clusters] = kmeans.fit(iris_data)\r\n",
        "print(kmeans.sse_list)"
      ],
      "execution_count": 97,
      "outputs": [
        {
          "output_type": "stream",
          "text": [
            "Time taken: 0.9725463390350342\n",
            "Number of iterations: 100\n",
            "[127.37136632743268, 111.6698565172493, 102.9240477867125, 99.975421546978, 98.773416323733, 98.19480054362994, 98.19939498657202, 98.19939498657202, 98.19939498657202, 98.19939498657202, 98.19939498657202, 98.19939498657202, 98.19939498657202, 98.19939498657202, 98.19939498657202, 98.19939498657202, 98.19939498657202, 98.19939498657202, 98.19939498657202, 98.19939498657202, 98.19939498657202, 98.19939498657202, 98.19939498657202, 98.19939498657202, 98.19939498657202, 98.19939498657202, 98.19939498657202, 98.19939498657202, 98.19939498657202, 98.19939498657202, 98.19939498657202, 98.19939498657202, 98.19939498657202, 98.19939498657202, 98.19939498657202, 98.19939498657202, 98.19939498657202, 98.19939498657202, 98.19939498657202, 98.19939498657202, 98.19939498657202, 98.19939498657202, 98.19939498657202, 98.19939498657202, 98.19939498657202, 98.19939498657202, 98.19939498657202, 98.19939498657202, 98.19939498657202, 98.19939498657202, 98.19939498657202, 98.19939498657202, 98.19939498657202, 98.19939498657202, 98.19939498657202, 98.19939498657202, 98.19939498657202, 98.19939498657202, 98.19939498657202, 98.19939498657202, 98.19939498657202, 98.19939498657202, 98.19939498657202, 98.19939498657202, 98.19939498657202, 98.19939498657202, 98.19939498657202, 98.19939498657202, 98.19939498657202, 98.19939498657202, 98.19939498657202, 98.19939498657202, 98.19939498657202, 98.19939498657202, 98.19939498657202, 98.19939498657202, 98.19939498657202, 98.19939498657202, 98.19939498657202, 98.19939498657202, 98.19939498657202, 98.19939498657202, 98.19939498657202, 98.19939498657202, 98.19939498657202, 98.19939498657202, 98.19939498657202, 98.19939498657202, 98.19939498657202, 98.19939498657202, 98.19939498657202, 98.19939498657202, 98.19939498657202, 98.19939498657202, 98.19939498657202, 98.19939498657202, 98.19939498657202, 98.19939498657202, 98.19939498657202, 98.19939498657202, 98.19939498657202]\n"
          ],
          "name": "stdout"
        }
      ]
    },
    {
      "cell_type": "markdown",
      "metadata": {
        "id": "S4ii95L0sg06"
      },
      "source": [
        "Task 3:"
      ]
    },
    {
      "cell_type": "code",
      "metadata": {
        "colab": {
          "base_uri": "https://localhost:8080/"
        },
        "id": "YAqzP56XBp7P",
        "outputId": "2800a881-6be5-4ce4-ef37-879048666ce8"
      },
      "source": [
        "red = [(4.7, 3.2), (4.9, 3.1), (5.0, 3.0), (4.6, 2.9)]\r\n",
        "blue = [(5.9, 3.2), (6.7, 3.1), (6.0, 3.0), (6.2, 2.8)]\r\n",
        "\r\n",
        "dists = []\r\n",
        "d = 0\r\n",
        "for r in red:\r\n",
        "    for b in blue:\r\n",
        "        dists.append([euclidean_distance(r, b), [r, b]])\r\n",
        "        d += dists[-1][0]\r\n",
        "\r\n",
        "dists.sort()\r\n",
        "\r\n",
        "print(\"Q1: Distance between closest points is {:.4f} between points {} and {}\".format(dists[0][0], dists[0][1][0], dists[0][1][1]))\r\n",
        "print(\"Q2: Distance between farthest points is {:.4f} between points {} and {}\".format(dists[-1][0], dists[-1][1][0], dists[-1][1][1]))\r\n",
        "print(\"Q3: Average of all distances is {:.4f}\".format(d/len(dists)))"
      ],
      "execution_count": 98,
      "outputs": [
        {
          "output_type": "stream",
          "text": [
            "Q1: Distance between closest points is 0.9220 between points (5.0, 3.0) and (5.9, 3.2)\n",
            "Q2: Distance between farthest points is 2.1095 between points (4.6, 2.9) and (6.7, 3.1)\n",
            "Q3: Average of all distances is 1.4129\n"
          ],
          "name": "stdout"
        }
      ]
    },
    {
      "cell_type": "markdown",
      "metadata": {
        "id": "dWqB-M1dsN-A"
      },
      "source": [
        "If even intra-cluster points' distances are considered, then"
      ]
    },
    {
      "cell_type": "code",
      "metadata": {
        "id": "Hd0Ok5gyKEtZ",
        "colab": {
          "base_uri": "https://localhost:8080/"
        },
        "outputId": "9274605e-c31e-4697-d161-f87ea7f32e5b"
      },
      "source": [
        "points = [(4.7, 3.2), (4.9, 3.1), (5.0, 3.0), (4.6, 2.9), (5.9, 3.2), (6.7, 3.1), (6.0, 3.0), (6.2, 2.8)]\r\n",
        "\r\n",
        "new_dists = []\r\n",
        "d = 0\r\n",
        "for i in range(len(points)):\r\n",
        "  for j in range(len(points)):\r\n",
        "    if i != j:\r\n",
        "      new_dists.append([euclidean_distance(points[i], points[j]), [points[i], points[j]]])\r\n",
        "      d += new_dists[-1][0]\r\n",
        "\r\n",
        "new_dists.sort()\r\n",
        "\r\n",
        "print(\"Q1: Distance between closest points is {:.4f} between points {} and {}\".format(new_dists[0][0], new_dists[0][1][0], new_dists[0][1][1]))\r\n",
        "print(\"Q2: Distance between farthest points is {:.4f} between points {} and {}\".format(new_dists[-1][0], new_dists[-1][1][0], new_dists[-1][1][1]))\r\n",
        "print(\"Q3: Average of all distances is {:.4f}\".format(d/len(new_dists)))"
      ],
      "execution_count": 99,
      "outputs": [
        {
          "output_type": "stream",
          "text": [
            "Q1: Distance between closest points is 0.1414 between points (4.9, 3.1) and (5.0, 3.0)\n",
            "Q2: Distance between farthest points is 2.1095 between points (6.7, 3.1) and (4.6, 2.9)\n",
            "Q3: Average of all distances is 0.9830\n"
          ],
          "name": "stdout"
        }
      ]
    }
  ]
}